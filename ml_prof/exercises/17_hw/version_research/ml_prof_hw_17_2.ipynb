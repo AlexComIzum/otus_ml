{
  "cells": [
    {
      "cell_type": "code",
      "source": [
        "import torch\n",
        "import numpy as np\n",
        "import warnings\n",
        "import matplotlib.pyplot as plt\n",
        "\n",
        "warnings.filterwarnings(\"ignore\", \"FutureWarning\")\n",
        "plt.style.use(\"dark_background\")\n",
        "\n",
        "# дополнительные импорты для задачи\n",
        "\n",
        "import torch.nn as nn\n",
        "from torch.nn import functional as F\n",
        "from torch.utils.data import TensorDataset, DataLoader\n",
        "from torchmetrics import Accuracy\n",
        "from sklearn.datasets import make_moons\n",
        "from sklearn.model_selection import train_test_split\n",
        "from collections import Counter\n",
        "from tqdm.autonotebook import tqdm"
      ],
      "metadata": {
        "id": "PFSyIkz_r1Vq"
      },
      "id": "PFSyIkz_r1Vq",
      "execution_count": 3,
      "outputs": []
    },
    {
      "cell_type": "markdown",
      "source": [
        "## 1. Создаем данные"
      ],
      "metadata": {
        "id": "dwaHNTaPtPwg"
      },
      "id": "dwaHNTaPtPwg"
    },
    {
      "cell_type": "code",
      "source": [
        "x_np = np.random.uniform(-10,10,(20000,1))\n",
        "y_np = np.random.uniform(-10,10,(20000,1))"
      ],
      "metadata": {
        "id": "rptmBK7Wr5H3"
      },
      "id": "rptmBK7Wr5H3",
      "execution_count": 5,
      "outputs": []
    },
    {
      "cell_type": "code",
      "source": [
        "z_np = np.sin(x_np * 2 ** y_np) * np.exp(-(2 * x_np + y_np)**2)"
      ],
      "metadata": {
        "id": "GGTc_AMnscOA"
      },
      "id": "GGTc_AMnscOA",
      "execution_count": 6,
      "outputs": []
    },
    {
      "cell_type": "code",
      "source": [
        "import numpy as geek"
      ],
      "metadata": {
        "id": "0Z7U7-UyvRNL"
      },
      "id": "0Z7U7-UyvRNL",
      "execution_count": 8,
      "outputs": []
    },
    {
      "cell_type": "code",
      "source": [
        "x_y_np = geek.concatenate((x_np, y_np), axis=1)"
      ],
      "metadata": {
        "id": "AVfYfZ3uuE1P"
      },
      "id": "AVfYfZ3uuE1P",
      "execution_count": 10,
      "outputs": []
    },
    {
      "cell_type": "code",
      "source": [
        "x_y_np"
      ],
      "metadata": {
        "colab": {
          "base_uri": "https://localhost:8080/"
        },
        "id": "U7qrxVsfxHgR",
        "outputId": "c7433ddf-b43b-4a3e-92e8-6fa79b932624"
      },
      "id": "U7qrxVsfxHgR",
      "execution_count": 11,
      "outputs": [
        {
          "output_type": "execute_result",
          "data": {
            "text/plain": [
              "array([[-8.77981608,  7.30752578],\n",
              "       [ 5.99507143,  4.59090496],\n",
              "       [-7.55364826,  6.52442349],\n",
              "       ...,\n",
              "       [ 7.93784908, -3.97811461],\n",
              "       [ 1.61561928,  7.14816666],\n",
              "       [-6.15612244, -9.23450849]])"
            ]
          },
          "metadata": {},
          "execution_count": 11
        }
      ]
    },
    {
      "cell_type": "code",
      "source": [
        "x_np"
      ],
      "metadata": {
        "colab": {
          "base_uri": "https://localhost:8080/"
        },
        "id": "knX1-FABxL8s",
        "outputId": "c4d6d93f-7f22-48db-a483-f8170e47afde"
      },
      "id": "knX1-FABxL8s",
      "execution_count": 12,
      "outputs": [
        {
          "output_type": "execute_result",
          "data": {
            "text/plain": [
              "array([[-8.77981608],\n",
              "       [ 5.99507143],\n",
              "       [-7.55364826],\n",
              "       ...,\n",
              "       [ 7.93784908],\n",
              "       [ 1.61561928],\n",
              "       [-6.15612244]])"
            ]
          },
          "metadata": {},
          "execution_count": 12
        }
      ]
    },
    {
      "cell_type": "markdown",
      "source": [
        "## Делим данные на train, test,  val"
      ],
      "metadata": {
        "id": "FXsC_I8fuF7Y"
      },
      "id": "FXsC_I8fuF7Y"
    },
    {
      "cell_type": "code",
      "source": [
        "xy_train, xy_test_val, z_train, z_test_val = train_test_split(x_y_np, z_np, test_size=0.3,  random_state=42)"
      ],
      "metadata": {
        "id": "bZC3HiOHxWwd"
      },
      "id": "bZC3HiOHxWwd",
      "execution_count": 13,
      "outputs": []
    },
    {
      "cell_type": "code",
      "source": [
        "xy_test, xy_val, z_test, z_val = train_test_split(xy_test_val, z_test_val, test_size=0.5,  random_state=42)"
      ],
      "metadata": {
        "id": "eWbgx1DjxW-7"
      },
      "id": "eWbgx1DjxW-7",
      "execution_count": 21,
      "outputs": []
    },
    {
      "cell_type": "code",
      "source": [
        "xy_test"
      ],
      "metadata": {
        "colab": {
          "base_uri": "https://localhost:8080/"
        },
        "id": "RiHRJAWqy_j-",
        "outputId": "c1aee468-59b6-4d77-dbe2-0df0e14ce831"
      },
      "id": "RiHRJAWqy_j-",
      "execution_count": 24,
      "outputs": [
        {
          "output_type": "execute_result",
          "data": {
            "text/plain": [
              "array([[ 4.92777476, -2.98905049],\n",
              "       [-1.30174336, -2.49447466],\n",
              "       [-6.48581686, -5.87056318],\n",
              "       ...,\n",
              "       [ 6.67740707,  0.87734415],\n",
              "       [ 7.42273709,  4.73881591],\n",
              "       [ 2.3705457 , -8.93044359]])"
            ]
          },
          "metadata": {},
          "execution_count": 24
        }
      ]
    },
    {
      "cell_type": "code",
      "source": [
        "xy_test[:,1]"
      ],
      "metadata": {
        "colab": {
          "base_uri": "https://localhost:8080/"
        },
        "id": "pVR1pZwXx0jG",
        "outputId": "fa8002a1-4420-4d41-8970-33c58fb549af"
      },
      "id": "pVR1pZwXx0jG",
      "execution_count": 22,
      "outputs": [
        {
          "output_type": "execute_result",
          "data": {
            "text/plain": [
              "array([-2.98905049, -2.49447466, -5.87056318, ...,  0.87734415,\n",
              "        4.73881591, -8.93044359])"
            ]
          },
          "metadata": {},
          "execution_count": 22
        }
      ]
    },
    {
      "cell_type": "code",
      "source": [
        "xy_test[:,0]"
      ],
      "metadata": {
        "colab": {
          "base_uri": "https://localhost:8080/"
        },
        "id": "YOcO-n66yqmE",
        "outputId": "5d667b1b-d6a4-4b18-e88d-3e46b7d0770b"
      },
      "id": "YOcO-n66yqmE",
      "execution_count": 23,
      "outputs": [
        {
          "output_type": "execute_result",
          "data": {
            "text/plain": [
              "array([ 4.92777476, -1.30174336, -6.48581686, ...,  6.67740707,\n",
              "        7.42273709,  2.3705457 ])"
            ]
          },
          "metadata": {},
          "execution_count": 23
        }
      ]
    },
    {
      "cell_type": "markdown",
      "source": [
        "### конвертируем данные в тензор\n"
      ],
      "metadata": {
        "id": "ff-O4OIozIhn"
      },
      "id": "ff-O4OIozIhn"
    },
    {
      "cell_type": "code",
      "source": [
        "train_XY = torch.from_numpy(xy_train).to(torch.float32)\n",
        "train_Z = torch.from_numpy(z_train).type_as(train_XY)\n",
        "val_XY = torch.from_numpy(xy_val).to(torch.float32)\n",
        "val_Z = torch.from_numpy(z_val).type_as(val_XY)"
      ],
      "metadata": {
        "id": "kkgvR-rZsnQq"
      },
      "id": "kkgvR-rZsnQq",
      "execution_count": 27,
      "outputs": []
    },
    {
      "cell_type": "code",
      "source": [
        "test_XY = torch.from_numpy(xy_test).to(torch.float32)\n",
        "test_Z = torch.from_numpy(z_test).type_as(test_XY)"
      ],
      "metadata": {
        "id": "JJVhPL2Iz6Sb"
      },
      "id": "JJVhPL2Iz6Sb",
      "execution_count": 28,
      "outputs": []
    },
    {
      "cell_type": "markdown",
      "source": [
        "Подготовка данных к обучению"
      ],
      "metadata": {
        "id": "-Vbj49xLtEgY"
      },
      "id": "-Vbj49xLtEgY"
    },
    {
      "cell_type": "code",
      "source": [
        "BATCH = 100\n",
        "# создали датасеты\n",
        "train_dataset = TensorDataset(train_XY, train_Z)\n",
        "val_dataset = TensorDataset(val_XY, val_Z)\n",
        "test_dataset = TensorDataset(test_XY, test_Z)\n",
        "# создаем загрузчики\n",
        "train_loader = DataLoader(train_dataset, batch_size=BATCH)\n",
        "val_loader = DataLoader(val_dataset, batch_size=BATCH)\n",
        "test_loader = DataLoader(test_dataset, batch_size=BATCH)"
      ],
      "metadata": {
        "id": "Dx6mWNw5snZb"
      },
      "id": "Dx6mWNw5snZb",
      "execution_count": 29,
      "outputs": []
    },
    {
      "cell_type": "code",
      "source": [
        "DEVICE = \"cpu\""
      ],
      "metadata": {
        "id": "UIyr3AUy07Mv"
      },
      "id": "UIyr3AUy07Mv",
      "execution_count": 30,
      "outputs": []
    },
    {
      "cell_type": "markdown",
      "source": [
        "## Линейная модель аппроксимирующей функции\n",
        "\n",
        "z = xW1 + yW2 + b"
      ],
      "metadata": {
        "id": "YSdkaqL21GZC"
      },
      "id": "YSdkaqL21GZC"
    },
    {
      "cell_type": "code",
      "source": [
        "class MyLinearRegression(nn.Module):\n",
        "  # 1ый обязательный метод\n",
        "  def __init__(self, in_features, out_features):\n",
        "    super().__init__() # обязательно\n",
        "    self.W_1 = nn.Parameter(torch.randn((in_features, out_features),\n",
        "                                      requires_grad=True)\n",
        "    )\n",
        "    self.W_2 = nn.Parameter(torch.randn((in_features, out_features),\n",
        "                                      requires_grad=True)\n",
        "    )\n",
        "    self.b = nn.Parameter(torch.ones(out_features),\n",
        "                                      requires_grad=True)\n",
        "\n",
        "  # 2ой обязательный метод\n",
        "  def forward(self, x):\n",
        "    x = x[:0] @ self.W_1\n",
        "    y = x[:1] @ self.W_2\n",
        "    z_rec = x + y + self.b\n",
        "    return z_rec"
      ],
      "metadata": {
        "id": "ALjPACSn07WA"
      },
      "id": "ALjPACSn07WA",
      "execution_count": 32,
      "outputs": []
    },
    {
      "cell_type": "code",
      "source": [
        "model = torch.nn.Sequential(\n",
        "    torch.nn.Linear(3, 1),      # линейный слой из одного нейрона и трех входов (весов)\n",
        "    torch.nn.Flatten(0, 1)      # представляем результат в виде вектора\n",
        ")"
      ],
      "metadata": {
        "id": "RSL0w7vpehIS"
      },
      "id": "RSL0w7vpehIS",
      "execution_count": null,
      "outputs": []
    },
    {
      "cell_type": "code",
      "source": [
        "# как мы будем учиться работать с pyTorch\n",
        "class NNsuperTest(nn.Module):\n",
        "  # 1ый обязательный метод\n",
        "  def __init__(self, in_features, out_features):\n",
        "    super().__init__() # обязательно\n",
        "    #   self.linear = nn.Sequential(\n",
        "    #                     nn.Linear(2, 4),\n",
        "    #                     nn.Dropout(p=.5),\n",
        "    #                     activation,\n",
        "    #                     nn.Linear(4, 1)\n",
        "    # )\n",
        "    self.lin_linear_1 = self.make_layer(in_features, out_features)\n",
        "    self.flatten = nn.Flatten(0, 1)\n",
        "    self.relu = F.relu\n",
        "\n",
        "  def make_layer(self, in_f, out_f):\n",
        "    return nn.Linear(in_f, out_f)\n",
        "\n",
        "  # 2ой обязательный метод\n",
        "  def forward(self, x):\n",
        "    x = self.lin_linear_1(x)\n",
        "    x = self.relu(x)\n",
        "    x = self.flatten(x)\n",
        "    return x"
      ],
      "metadata": {
        "id": "XywLHF9zfCQ-"
      },
      "id": "XywLHF9zfCQ-",
      "execution_count": 35,
      "outputs": []
    },
    {
      "cell_type": "code",
      "source": [
        "# как мы будем учиться работать с pyTorch\n",
        "class NNsuper(nn.Module):\n",
        "  # 1ый обязательный метод\n",
        "  def __init__(self, in_features, out_features):\n",
        "    super().__init__() # обязательно\n",
        "    #   self.linear = nn.Sequential(\n",
        "    #                     nn.Linear(2, 4),\n",
        "    #                     nn.Dropout(p=.5),\n",
        "    #                     activation,\n",
        "    #                     nn.Linear(4, 1)\n",
        "    # )\n",
        "    self.lin_linear_1 = self.make_layer(in_features, in_features * 4)\n",
        "    self.lin_linear_2 = self.make_layer(in_features * 4, in_features * 2)\n",
        "    self.lin_linear_3 = self.make_layer(in_features * 2, out_features)\n",
        "    self.relu = F.relu\n",
        "\n",
        "  def make_layer(self, in_f, out_f):\n",
        "    return nn.Linear(in_f, out_f)\n",
        "\n",
        "  # 2ой обязательный метод\n",
        "  def forward(self, x):\n",
        "    x = self.lin_linear_1(x)\n",
        "    x = self.relu(x)\n",
        "\n",
        "    x = self.lin_linear_2(x)\n",
        "    x = self.relu(x)\n",
        "    x = self.lin_linear_3(x)\n",
        "    return x"
      ],
      "metadata": {
        "id": "w-xlJ_p4efo6"
      },
      "id": "w-xlJ_p4efo6",
      "execution_count": null,
      "outputs": []
    },
    {
      "cell_type": "markdown",
      "source": [
        "### Обучение"
      ],
      "metadata": {
        "id": "PeXW6siL3CV5"
      },
      "id": "PeXW6siL3CV5"
    },
    {
      "cell_type": "code",
      "source": [
        "# подготовка\n",
        "# 1. Задать модель - nn.Module\n",
        "model = NNsuperTest(2, 1)\n",
        "# 2. Задать функцию потерь - nn.NAME_OF_FUNC\n",
        "loss_function = nn.BCEWithLogitsLoss()\n",
        "# 3. Задать оптимизатор - torch.optim.NAME_OF_OPTIM\n",
        "optimizer = torch.optim.SGD(model.parameters(), lr=.042)\n",
        "\n",
        "# поместить модель и метрику на GPU\n",
        "model = model.to(DEVICE)\n",
        "accuracy = Accuracy(task='binary',).to(DEVICE)\n",
        "# создать вспомогательные списки для данных\n",
        "# н-р, лосс на каждой итераций\n",
        "losses_train = []\n",
        "# н-р, общий лосс\n",
        "total_loss = []\n",
        "# н-р, accuracy\n",
        "acc_val = []\n",
        "# задать общее количество эпох\n",
        "MAX_EPOCHS = 200\n",
        "# для каждой эпохи\n",
        "for epoch in tqdm(range(MAX_EPOCHS)):\n",
        "  # для каждой части датасета\n",
        "  for iteration, (X_batch, y_batch) in enumerate(train_loader):\n",
        "    # ЭТАП ОБУЧЕНИЯ\n",
        "    # мы переводим модель в режим обучения\n",
        "    model.train()\n",
        "    # ОБНУЛЯЕМ градиенты у оптимизатора\n",
        "    optimizer.zero_grad()\n",
        "    # пропускам данные через модель\n",
        "    outputs = model(X_batch.to(DEVICE))\n",
        "    #print(f'1 outputs = {outputs}')\n",
        "    # выравняем выходы в одномерный тензор\n",
        "    #outputs = outputs.view(-1)\n",
        "    outputs = outputs.unsqueeze(-1)\n",
        "    #print(f'outputs = {outputs}')\n",
        "   # print(f'y_batch = {y_batch}')\n",
        "    # считаем лосс\n",
        "    loss = loss_function(outputs, y_batch.to(DEVICE))\n",
        "    # делаем шаг в обратном направлении\n",
        "    loss.backward()\n",
        "    # собираем лоссы\n",
        "    losses_train.append(loss.detach().cpu().numpy().item())\n",
        "    # делаем шаг оптимизатора\n",
        "    optimizer.step()\n",
        "  # собираем средний лосс\n",
        "  total_loss.append(np.mean(losses_train))\n",
        "  # ШАГ ВАЛИДАЦИИ\n",
        "  for iteration, (X_batch, y_batch) in enumerate(val_loader):\n",
        "    # режим инференса или валидации, тестирования\n",
        "    model.eval()\n",
        "    # обязательно добавить\n",
        "    with torch.no_grad():\n",
        "      outputs = model(X_batch.to(DEVICE))\n",
        "      #outputs = outputs.view(-1)\n",
        "      outputs = outputs.unsqueeze(-1)\n",
        "      loss = loss_function(outputs, y_batch.to(DEVICE))\n",
        "      # считаем вероятности\n",
        "      proba = torch.sigmoid(outputs)\n",
        "      # ситаем метрику\n",
        "      batch_acc = accuracy(proba, y_batch.to(torch.int32).to(DEVICE))\n",
        "      acc_val.append(batch_acc.detach().cpu().numpy().item())"
      ],
      "metadata": {
        "colab": {
          "base_uri": "https://localhost:8080/",
          "height": 49,
          "referenced_widgets": [
            "2187192e56124a799debb0d682746b04",
            "56198151ee7a41f790592c4807e4a418",
            "b1fcbadd79ec4bb3a0d4d26c16d5128f",
            "c4e2c65f125649bd847c8f6fa29d99b8",
            "ed0b385a5ffa4bdfa58a0c803ca11bd2",
            "2ad7d44da94d464e991a1773b2684580",
            "4fc8ba3865814ae8a36d219ca6a6ba22",
            "c3986ac898bd40419e93ca31fb3feea2",
            "2ef16516c3464603b99d3be6389a4af9",
            "eb354585ba834c47970a7cfbfde13a88",
            "b78a50b37dba45e69cb1d26472dc1edc"
          ]
        },
        "id": "kTWZJn7M07fx",
        "outputId": "2c9d8af9-7f24-4905-9242-2533c8bfabb3"
      },
      "id": "kTWZJn7M07fx",
      "execution_count": 47,
      "outputs": [
        {
          "output_type": "display_data",
          "data": {
            "text/plain": [
              "  0%|          | 0/200 [00:00<?, ?it/s]"
            ],
            "application/vnd.jupyter.widget-view+json": {
              "version_major": 2,
              "version_minor": 0,
              "model_id": "2187192e56124a799debb0d682746b04"
            }
          },
          "metadata": {}
        }
      ]
    },
    {
      "cell_type": "code",
      "source": [
        "# Мы можем обратиться к первому слою нашей модели как к первому элементу list:\n",
        "model.lin_linear_1\n",
        "\n"
      ],
      "metadata": {
        "colab": {
          "base_uri": "https://localhost:8080/"
        },
        "id": "DGOy32v0iuLO",
        "outputId": "976dfd38-a3fe-4725-a20e-245284316508"
      },
      "id": "DGOy32v0iuLO",
      "execution_count": 50,
      "outputs": [
        {
          "output_type": "execute_result",
          "data": {
            "text/plain": [
              "Linear(in_features=2, out_features=1, bias=True)"
            ]
          },
          "metadata": {},
          "execution_count": 50
        }
      ]
    },
    {
      "cell_type": "code",
      "source": [
        "lin_linear_1 = model.lin_linear_1"
      ],
      "metadata": {
        "id": "eEJ6w3P9jT0c"
      },
      "id": "eEJ6w3P9jT0c",
      "execution_count": 51,
      "outputs": []
    },
    {
      "cell_type": "code",
      "source": [
        "lin_linear_1.bias.item()"
      ],
      "metadata": {
        "colab": {
          "base_uri": "https://localhost:8080/"
        },
        "id": "10GGFU2EiyJj",
        "outputId": "f0dd1479-346a-4780-d2e4-a55759dd1902"
      },
      "id": "10GGFU2EiyJj",
      "execution_count": 52,
      "outputs": [
        {
          "output_type": "execute_result",
          "data": {
            "text/plain": [
              "-0.11199178546667099"
            ]
          },
          "metadata": {},
          "execution_count": 52
        }
      ]
    },
    {
      "cell_type": "code",
      "source": [
        "lin_linear_1.weight"
      ],
      "metadata": {
        "colab": {
          "base_uri": "https://localhost:8080/"
        },
        "id": "bewR1Zlui12m",
        "outputId": "991167a6-fcf3-4220-a442-c9568dd33129"
      },
      "id": "bewR1Zlui12m",
      "execution_count": 53,
      "outputs": [
        {
          "output_type": "execute_result",
          "data": {
            "text/plain": [
              "Parameter containing:\n",
              "tensor([[-0.0009,  0.0073]], requires_grad=True)"
            ]
          },
          "metadata": {},
          "execution_count": 53
        }
      ]
    },
    {
      "cell_type": "code",
      "source": [
        "# Печатаем значения весов этого слоя (это и будут обученный коэффициенты искомого полинома):\n",
        "print(f'Result: z = {lin_linear_1.bias.item()} + {lin_linear_1.weight[:, 0].item()} * x + {lin_linear_1.weight[:, 1].item()} * y ')"
      ],
      "metadata": {
        "colab": {
          "base_uri": "https://localhost:8080/"
        },
        "id": "TRt72D2jiy0U",
        "outputId": "1e2887b9-d730-4c88-9fad-a18f73a6f679"
      },
      "id": "TRt72D2jiy0U",
      "execution_count": 57,
      "outputs": [
        {
          "output_type": "stream",
          "name": "stdout",
          "text": [
            "Result: z = -0.11199178546667099 + -0.0009349958854727447 * x + 0.00730728218331933 * y \n"
          ]
        }
      ]
    },
    {
      "cell_type": "code",
      "source": [
        "acc = np.mean(acc_val)\n",
        "print(f\"Accuracy линейной модели {acc:.2%}\")"
      ],
      "metadata": {
        "colab": {
          "base_uri": "https://localhost:8080/"
        },
        "id": "HAUkBvXBmaPf",
        "outputId": "10b527b6-15d1-4f2b-adb1-f4593ef14cfb"
      },
      "id": "HAUkBvXBmaPf",
      "execution_count": 60,
      "outputs": [
        {
          "output_type": "stream",
          "name": "stdout",
          "text": [
            "Accuracy линейной модели 100.00%\n"
          ]
        }
      ]
    },
    {
      "cell_type": "code",
      "source": [
        "plt.figure(figsize=(15, 6))\n",
        "plt.plot(range(len(total_loss)),\n",
        "         total_loss,\n",
        "         linestyle=\"-\"\n",
        "         )\n",
        "plt.xlabel(\"Epochs\")\n",
        "plt.ylabel(\"Loss\")\n",
        "plt.title(\"SGD_linear_model\")\n",
        "plt.show()"
      ],
      "metadata": {
        "colab": {
          "base_uri": "https://localhost:8080/",
          "height": 564
        },
        "id": "qY_wL7YCmjh_",
        "outputId": "8610c10d-16a9-433f-e71a-3fe2d6eb7eed"
      },
      "id": "qY_wL7YCmjh_",
      "execution_count": 61,
      "outputs": [
        {
          "output_type": "display_data",
          "data": {
            "text/plain": [
              "<Figure size 1500x600 with 1 Axes>"
            ],
            "image/png": "[encoded data removed]"
          },
          "metadata": {}
        }
      ]
    },
    {
      "cell_type": "code",
      "source": [
        "plot_decision_boundary(model.to(\"cpu\"))"
      ],
      "metadata": {
        "colab": {
          "base_uri": "https://localhost:8080/",
          "height": 141
        },
        "id": "hl3ixsHJmuFA",
        "outputId": "d1212632-5d67-491d-dd5e-0e01ccd8cc2e"
      },
      "id": "hl3ixsHJmuFA",
      "execution_count": 62,
      "outputs": [
        {
          "output_type": "error",
          "ename": "NameError",
          "evalue": "name 'plot_decision_boundary' is not defined",
          "traceback": [
            "\u001b[0;31m---------------------------------------------------------------------------\u001b[0m",
            "\u001b[0;31mNameError\u001b[0m                                 Traceback (most recent call last)",
            "\u001b[0;32m<ipython-input-62-7e4056f2bad6>\u001b[0m in \u001b[0;36m<cell line: 1>\u001b[0;34m()\u001b[0m\n\u001b[0;32m----> 1\u001b[0;31m \u001b[0mplot_decision_boundary\u001b[0m\u001b[0;34m(\u001b[0m\u001b[0mmodel\u001b[0m\u001b[0;34m.\u001b[0m\u001b[0mto\u001b[0m\u001b[0;34m(\u001b[0m\u001b[0;34m\"cpu\"\u001b[0m\u001b[0;34m)\u001b[0m\u001b[0;34m)\u001b[0m\u001b[0;34m\u001b[0m\u001b[0;34m\u001b[0m\u001b[0m\n\u001b[0m",
            "\u001b[0;31mNameError\u001b[0m: name 'plot_decision_boundary' is not defined"
          ]
        }
      ]
    },
    {
      "cell_type": "code",
      "source": [
        "from mpl_toolkits.mplot3d import Axes3D"
      ],
      "metadata": {
        "id": "Cm_g9zSMj_WF"
      },
      "id": "Cm_g9zSMj_WF",
      "execution_count": 59,
      "outputs": []
    },
    {
      "cell_type": "code",
      "source": [],
      "metadata": {
        "id": "IR8jsTLxkc-2"
      },
      "id": "IR8jsTLxkc-2",
      "execution_count": null,
      "outputs": []
    },
    {
      "cell_type": "code",
      "source": [],
      "metadata": {
        "id": "wgEYzKiAkdHz"
      },
      "id": "wgEYzKiAkdHz",
      "execution_count": null,
      "outputs": []
    },
    {
      "cell_type": "code",
      "source": [
        "with torch.no_grad():\n",
        "  torch.cuda.empty_cache()"
      ],
      "metadata": {
        "id": "iVZFwiji293M"
      },
      "id": "iVZFwiji293M",
      "execution_count": 46,
      "outputs": []
    },
    {
      "cell_type": "code",
      "execution_count": 4,
      "id": "0a843ace-9826-47ea-bbfd-ad66f9f505df",
      "metadata": {
        "id": "0a843ace-9826-47ea-bbfd-ad66f9f505df"
      },
      "outputs": [],
      "source": [
        "import torch\n",
        "import math\n",
        "import matplotlib.pyplot as plt\n",
        "import numpy as np\n",
        "import pandas as pd\n",
        "from sklearn.model_selection import train_test_split\n",
        "from torch.utils.data import TensorDataset, DataLoader"
      ]
    },
    {
      "cell_type": "code",
      "execution_count": 4,
      "id": "3e31b289-cedb-451e-b1b2-9986f91408ec",
      "metadata": {
        "id": "3e31b289-cedb-451e-b1b2-9986f91408ec"
      },
      "outputs": [],
      "source": [
        "from torchmetrics import Accuracy, F1Score, Precision, Recall\n",
        "import torch.optim as optim\n",
        "import torch.nn as nn"
      ]
    },
    {
      "cell_type": "markdown",
      "id": "3b5de1ec-4779-4e4c-94f0-5426f231301d",
      "metadata": {
        "id": "3b5de1ec-4779-4e4c-94f0-5426f231301d"
      },
      "source": [
        "## 1. Создаем данные"
      ]
    },
    {
      "cell_type": "code",
      "source": [
        "x_np = np.random.uniform(-10,10,(20000,1))\n",
        "y_np = np.random.uniform(-10,10,(20000,1))"
      ],
      "metadata": {
        "id": "srXj0Pch69JI"
      },
      "id": "srXj0Pch69JI",
      "execution_count": 5,
      "outputs": []
    },
    {
      "cell_type": "code",
      "source": [
        "x_np"
      ],
      "metadata": {
        "colab": {
          "base_uri": "https://localhost:8080/"
        },
        "id": "xjY9B8aFGbcD",
        "outputId": "525f1985-c239-4d3c-e14f-ffdf548267e6"
      },
      "id": "xjY9B8aFGbcD",
      "execution_count": 27,
      "outputs": [
        {
          "output_type": "execute_result",
          "data": {
            "text/plain": [
              "array([[ 3.92938371],\n",
              "       [-4.2772133 ],\n",
              "       [-5.46297093],\n",
              "       ...,\n",
              "       [-1.09853322],\n",
              "       [-4.45853312],\n",
              "       [-4.40126025]])"
            ]
          },
          "metadata": {},
          "execution_count": 27
        }
      ]
    },
    {
      "cell_type": "code",
      "source": [
        "z_np = np.sin(x_np * 2 ** y_np) * np.exp(-(2 * x_np + y_np)**2)"
      ],
      "metadata": {
        "id": "rJCDiZNK69YP"
      },
      "id": "rJCDiZNK69YP",
      "execution_count": 6,
      "outputs": []
    },
    {
      "cell_type": "code",
      "source": [
        "x_validation = torch.linspace(-10, 10, 100)\n",
        "y_validation = np.sin(x_np)\n",
        "plt.plot(y_np, z_np, 'o')\n",
        "plt.title('sin(x)')\n",
        "plt.xlabel('x_validation')\n",
        "plt.ylabel('y_validation');"
      ],
      "metadata": {
        "colab": {
          "base_uri": "https://localhost:8080/",
          "height": 472
        },
        "id": "_u_ZA-3z69gI",
        "outputId": "47f344b0-0b49-4a3b-a7ed-a230114ae240"
      },
      "id": "_u_ZA-3z69gI",
      "execution_count": 7,
      "outputs": [
        {
          "output_type": "display_data",
          "data": {
            "text/plain": [
              "<Figure size 640x480 with 1 Axes>"
            ],
            "image/png": "[encoded data removed]"
          },
          "metadata": {}
        }
      ]
    },
    {
      "cell_type": "code",
      "source": [
        "x_train, x_test_val, y_train, y_test_val = train_test_split(x_np, y_np,test_size=0.3,  random_state=42)"
      ],
      "metadata": {
        "id": "HIdUk8T38brw"
      },
      "id": "HIdUk8T38brw",
      "execution_count": 12,
      "outputs": []
    },
    {
      "cell_type": "code",
      "source": [
        "x_tmp, x_tmp_1, z_train, z_test_val = train_test_split(x_np,z_np,test_size=0.3,  random_state=42)"
      ],
      "metadata": {
        "id": "9O3vPjbM8b2Q"
      },
      "id": "9O3vPjbM8b2Q",
      "execution_count": 14,
      "outputs": []
    },
    {
      "cell_type": "code",
      "source": [
        "x_test, x_val, y_test, y_val = train_test_split(x_test_val, y_test_val, test_size=0.5,  random_state=42)"
      ],
      "metadata": {
        "id": "2-UVEzyk--Wk"
      },
      "id": "2-UVEzyk--Wk",
      "execution_count": 15,
      "outputs": []
    },
    {
      "cell_type": "code",
      "source": [
        "x_tmp2, x_tmp3, z_test, z_val = train_test_split(x_tmp_1, z_test_val, test_size=0.5,  random_state=42)"
      ],
      "metadata": {
        "id": "HwPGjr9T_cC1"
      },
      "id": "HwPGjr9T_cC1",
      "execution_count": 18,
      "outputs": []
    },
    {
      "cell_type": "code",
      "source": [
        "x_train_ts = torch.from_numpy(x_train)\n",
        "y_train_ts = torch.from_numpy(y_train)\n",
        "z_train_ts = torch.from_numpy(z_train)"
      ],
      "metadata": {
        "id": "7uh0S-fjBsd0"
      },
      "id": "7uh0S-fjBsd0",
      "execution_count": 21,
      "outputs": []
    },
    {
      "cell_type": "code",
      "source": [
        "x_test_ts = torch.from_numpy(x_test)\n",
        "y_test_ts = torch.from_numpy(y_test)\n",
        "z_test_ts = torch.from_numpy(z_test)"
      ],
      "metadata": {
        "id": "ccMHjxmkCDI-"
      },
      "id": "ccMHjxmkCDI-",
      "execution_count": 22,
      "outputs": []
    },
    {
      "cell_type": "code",
      "source": [
        "x_val_ts = torch.from_numpy(x_val)\n",
        "y_val_ts = torch.from_numpy(y_val)\n",
        "z_val_ts = torch.from_numpy(z_val)"
      ],
      "metadata": {
        "id": "Gizeic5eCRqn"
      },
      "id": "Gizeic5eCRqn",
      "execution_count": 23,
      "outputs": []
    },
    {
      "cell_type": "code",
      "source": [
        "# Подготавливаем входной тензор (x, x^2, x^3) который будет поступать в сеть:\n",
        "p = torch.tensor([1.0, 2.0, 3.0])     # степени полинома\n",
        "xx = x_train_ts.unsqueeze(-1).pow(p)     # возводим входной вектор x в степени p\n",
        "\n",
        "# Определем модель из torch.nn котора состоит из одного линейного слоя с 1 нейронам\n",
        "# каждый из трех нейронов моделирует собой один из коэффициентов полинома (а где же 4ый?)\n",
        "#model = torch.nn.Sequential(\n",
        " #   torch.nn.Linear(3, 1),      # линейный слой из одного нейрона и трех входов (весов)\n",
        "  #  torch.nn.Flatten(0, 1)      # представляем результат в виде вектора\n",
        "#)\n",
        "\n",
        "# Функция потерь MSE из torch.nn:\n",
        "loss_fn = torch.nn.MSELoss(reduction='sum')\n",
        "\n",
        "# Скорость обучения:\n",
        "learning_rate = 1e-6\n"
      ],
      "metadata": {
        "id": "QgrB1ZAEBfHb"
      },
      "id": "QgrB1ZAEBfHb",
      "execution_count": 38,
      "outputs": []
    },
    {
      "cell_type": "code",
      "source": [
        "# Будем использовать оптимайзер RMSprop из torch.optim:\n",
        "optimizer = torch.optim.RMSprop(model.parameters(), lr=learning_rate)"
      ],
      "metadata": {
        "id": "iMKRzBGJCwQa"
      },
      "id": "iMKRzBGJCwQa",
      "execution_count": 29,
      "outputs": []
    },
    {
      "cell_type": "code",
      "source": [
        "# Будем использовать оптимайзер RMSprop из torch.optim:\n",
        "optimizer2 = torch.optim.RMSprop(sine_net.parameters(), lr=learning_rate)"
      ],
      "metadata": {
        "id": "iKOMTkKKJzVQ"
      },
      "id": "iKOMTkKKJzVQ",
      "execution_count": 39,
      "outputs": []
    },
    {
      "cell_type": "code",
      "source": [
        "xx"
      ],
      "metadata": {
        "colab": {
          "base_uri": "https://localhost:8080/"
        },
        "id": "meliJ5KTGwV8",
        "outputId": "3ad02621-cb10-416b-d079-43341cf665e7"
      },
      "id": "meliJ5KTGwV8",
      "execution_count": 31,
      "outputs": [
        {
          "output_type": "execute_result",
          "data": {
            "text/plain": [
              "tensor([[[   9.1774,   84.2249,  772.9673]],\n",
              "\n",
              "        [[  -9.2024,   84.6837, -779.2907]],\n",
              "\n",
              "        [[  -4.9079,   24.0872, -118.2172]],\n",
              "\n",
              "        ...,\n",
              "\n",
              "        [[   1.4086,    1.9843,    2.7951]],\n",
              "\n",
              "        [[   3.4787,   12.1015,   42.0977]],\n",
              "\n",
              "        [[  -6.9431,   48.2072, -334.7095]]], dtype=torch.float64)"
            ]
          },
          "metadata": {},
          "execution_count": 31
        }
      ]
    },
    {
      "cell_type": "code",
      "source": [
        "# Оптимизационный цикл (цикл обучения):\n",
        "for t in range(2000):\n",
        "\n",
        "    # Прямой проход: вычисляем предсказанный y пропуская вход xx через модель:\n",
        "    y_pred = sine_net(xx)\n",
        "\n",
        "    # Считаем ошибку (MSE) предскзанного y_pred и истинного y:\n",
        "    loss = loss_fn(y_pred, z_test_ts)\n",
        "    if t % 100 == 99:\n",
        "        print(f'iter={t}, loss={loss.item()}')    # !!! loss.item()\n",
        "\n",
        "    # Перед обратным проходом нам нужно занулить градиент для всех весов которые обновляет optimizer\n",
        "    optimizer2.zero_grad()\n",
        "\n",
        "    # Обратный проход (вычисляем градиенты для весов модели относительно loss):\n",
        "    loss.backward()\n",
        "\n",
        "    # Обновляем веса оптимайзером:\n",
        "    optimizer.step()\n",
        "\n",
        "\n",
        "# Мы можем обратиться к первому слою нашей модели как к первому элементу list:\n",
        "linear_layer = model[0]\n",
        "\n",
        "# Печатаем значения весов этого слоя (это и будут обученный коэффициенты искомого полинома):\n",
        "print(f'Result: y = {linear_layer.bias.item()} + {linear_layer.weight[:, 0].item()} x + {linear_layer.weight[:, 1].item()} x^2 + {linear_layer.weight[:, 2].item()} x^3')"
      ],
      "metadata": {
        "colab": {
          "base_uri": "https://localhost:8080/",
          "height": 356
        },
        "id": "dBKDIoOhBfRT",
        "outputId": "b245a870-9fdc-4aed-eb35-6a71e991aa9f"
      },
      "id": "dBKDIoOhBfRT",
      "execution_count": 47,
      "outputs": [
        {
          "output_type": "error",
          "ename": "RuntimeError",
          "evalue": "mat1 and mat2 must have the same dtype, but got Double and Float",
          "traceback": [
            "\u001b[0;31m---------------------------------------------------------------------------\u001b[0m",
            "\u001b[0;31mRuntimeError\u001b[0m                              Traceback (most recent call last)",
            "\u001b[0;32m<ipython-input-47-d0463c45395e>\u001b[0m in \u001b[0;36m<cell line: 2>\u001b[0;34m()\u001b[0m\n\u001b[1;32m      3\u001b[0m \u001b[0;34m\u001b[0m\u001b[0m\n\u001b[1;32m      4\u001b[0m     \u001b[0;31m# Прямой проход: вычисляем предсказанный y пропуская вход xx через модель:\u001b[0m\u001b[0;34m\u001b[0m\u001b[0;34m\u001b[0m\u001b[0m\n\u001b[0;32m----> 5\u001b[0;31m     \u001b[0my_pred\u001b[0m \u001b[0;34m=\u001b[0m \u001b[0msine_net\u001b[0m\u001b[0;34m(\u001b[0m\u001b[0mxx\u001b[0m\u001b[0;34m)\u001b[0m\u001b[0;34m\u001b[0m\u001b[0;34m\u001b[0m\u001b[0m\n\u001b[0m\u001b[1;32m      6\u001b[0m \u001b[0;34m\u001b[0m\u001b[0m\n\u001b[1;32m      7\u001b[0m     \u001b[0;31m# Считаем ошибку (MSE) предскзанного y_pred и истинного y:\u001b[0m\u001b[0;34m\u001b[0m\u001b[0;34m\u001b[0m\u001b[0m\n",
            "\u001b[0;32m/usr/local/lib/python3.10/dist-packages/torch/nn/modules/module.py\u001b[0m in \u001b[0;36m_wrapped_call_impl\u001b[0;34m(self, *args, **kwargs)\u001b[0m\n\u001b[1;32m   1551\u001b[0m             \u001b[0;32mreturn\u001b[0m \u001b[0mself\u001b[0m\u001b[0;34m.\u001b[0m\u001b[0m_compiled_call_impl\u001b[0m\u001b[0;34m(\u001b[0m\u001b[0;34m*\u001b[0m\u001b[0margs\u001b[0m\u001b[0;34m,\u001b[0m \u001b[0;34m**\u001b[0m\u001b[0mkwargs\u001b[0m\u001b[0;34m)\u001b[0m  \u001b[0;31m# type: ignore[misc]\u001b[0m\u001b[0;34m\u001b[0m\u001b[0;34m\u001b[0m\u001b[0m\n\u001b[1;32m   1552\u001b[0m         \u001b[0;32melse\u001b[0m\u001b[0;34m:\u001b[0m\u001b[0;34m\u001b[0m\u001b[0;34m\u001b[0m\u001b[0m\n\u001b[0;32m-> 1553\u001b[0;31m             \u001b[0;32mreturn\u001b[0m \u001b[0mself\u001b[0m\u001b[0;34m.\u001b[0m\u001b[0m_call_impl\u001b[0m\u001b[0;34m(\u001b[0m\u001b[0;34m*\u001b[0m\u001b[0margs\u001b[0m\u001b[0;34m,\u001b[0m \u001b[0;34m**\u001b[0m\u001b[0mkwargs\u001b[0m\u001b[0;34m)\u001b[0m\u001b[0;34m\u001b[0m\u001b[0;34m\u001b[0m\u001b[0m\n\u001b[0m\u001b[1;32m   1554\u001b[0m \u001b[0;34m\u001b[0m\u001b[0m\n\u001b[1;32m   1555\u001b[0m     \u001b[0;32mdef\u001b[0m \u001b[0m_call_impl\u001b[0m\u001b[0;34m(\u001b[0m\u001b[0mself\u001b[0m\u001b[0;34m,\u001b[0m \u001b[0;34m*\u001b[0m\u001b[0margs\u001b[0m\u001b[0;34m,\u001b[0m \u001b[0;34m**\u001b[0m\u001b[0mkwargs\u001b[0m\u001b[0;34m)\u001b[0m\u001b[0;34m:\u001b[0m\u001b[0;34m\u001b[0m\u001b[0;34m\u001b[0m\u001b[0m\n",
            "\u001b[0;32m/usr/local/lib/python3.10/dist-packages/torch/nn/modules/module.py\u001b[0m in \u001b[0;36m_call_impl\u001b[0;34m(self, *args, **kwargs)\u001b[0m\n\u001b[1;32m   1560\u001b[0m                 \u001b[0;32mor\u001b[0m \u001b[0m_global_backward_pre_hooks\u001b[0m \u001b[0;32mor\u001b[0m \u001b[0m_global_backward_hooks\u001b[0m\u001b[0;34m\u001b[0m\u001b[0;34m\u001b[0m\u001b[0m\n\u001b[1;32m   1561\u001b[0m                 or _global_forward_hooks or _global_forward_pre_hooks):\n\u001b[0;32m-> 1562\u001b[0;31m             \u001b[0;32mreturn\u001b[0m \u001b[0mforward_call\u001b[0m\u001b[0;34m(\u001b[0m\u001b[0;34m*\u001b[0m\u001b[0margs\u001b[0m\u001b[0;34m,\u001b[0m \u001b[0;34m**\u001b[0m\u001b[0mkwargs\u001b[0m\u001b[0;34m)\u001b[0m\u001b[0;34m\u001b[0m\u001b[0;34m\u001b[0m\u001b[0m\n\u001b[0m\u001b[1;32m   1563\u001b[0m \u001b[0;34m\u001b[0m\u001b[0m\n\u001b[1;32m   1564\u001b[0m         \u001b[0;32mtry\u001b[0m\u001b[0;34m:\u001b[0m\u001b[0;34m\u001b[0m\u001b[0;34m\u001b[0m\u001b[0m\n",
            "\u001b[0;32m<ipython-input-45-888d6266063d>\u001b[0m in \u001b[0;36mforward\u001b[0;34m(self, x)\u001b[0m\n\u001b[1;32m      9\u001b[0m        \u001b[0;31m# print(type(self.weight))\u001b[0m\u001b[0;34m\u001b[0m\u001b[0;34m\u001b[0m\u001b[0m\n\u001b[1;32m     10\u001b[0m        \u001b[0;31m# print(type(self.bias))\u001b[0m\u001b[0;34m\u001b[0m\u001b[0;34m\u001b[0m\u001b[0m\n\u001b[0;32m---> 11\u001b[0;31m         \u001b[0mx\u001b[0m \u001b[0;34m=\u001b[0m \u001b[0mself\u001b[0m\u001b[0;34m.\u001b[0m\u001b[0mfc1\u001b[0m\u001b[0;34m(\u001b[0m\u001b[0mx\u001b[0m\u001b[0;34m)\u001b[0m\u001b[0;34m\u001b[0m\u001b[0;34m\u001b[0m\u001b[0m\n\u001b[0m\u001b[1;32m     12\u001b[0m         \u001b[0mx\u001b[0m \u001b[0;34m=\u001b[0m \u001b[0mself\u001b[0m\u001b[0;34m.\u001b[0m\u001b[0mact1\u001b[0m\u001b[0;34m(\u001b[0m\u001b[0mx\u001b[0m\u001b[0;34m)\u001b[0m\u001b[0;34m\u001b[0m\u001b[0;34m\u001b[0m\u001b[0m\n\u001b[1;32m     13\u001b[0m         \u001b[0mx\u001b[0m \u001b[0;34m=\u001b[0m \u001b[0mself\u001b[0m\u001b[0;34m.\u001b[0m\u001b[0mfc2\u001b[0m\u001b[0;34m(\u001b[0m\u001b[0mx\u001b[0m\u001b[0;34m)\u001b[0m\u001b[0;34m\u001b[0m\u001b[0;34m\u001b[0m\u001b[0m\n",
            "\u001b[0;32m/usr/local/lib/python3.10/dist-packages/torch/nn/modules/module.py\u001b[0m in \u001b[0;36m_wrapped_call_impl\u001b[0;34m(self, *args, **kwargs)\u001b[0m\n\u001b[1;32m   1551\u001b[0m             \u001b[0;32mreturn\u001b[0m \u001b[0mself\u001b[0m\u001b[0;34m.\u001b[0m\u001b[0m_compiled_call_impl\u001b[0m\u001b[0;34m(\u001b[0m\u001b[0;34m*\u001b[0m\u001b[0margs\u001b[0m\u001b[0;34m,\u001b[0m \u001b[0;34m**\u001b[0m\u001b[0mkwargs\u001b[0m\u001b[0;34m)\u001b[0m  \u001b[0;31m# type: ignore[misc]\u001b[0m\u001b[0;34m\u001b[0m\u001b[0;34m\u001b[0m\u001b[0m\n\u001b[1;32m   1552\u001b[0m         \u001b[0;32melse\u001b[0m\u001b[0;34m:\u001b[0m\u001b[0;34m\u001b[0m\u001b[0;34m\u001b[0m\u001b[0m\n\u001b[0;32m-> 1553\u001b[0;31m             \u001b[0;32mreturn\u001b[0m \u001b[0mself\u001b[0m\u001b[0;34m.\u001b[0m\u001b[0m_call_impl\u001b[0m\u001b[0;34m(\u001b[0m\u001b[0;34m*\u001b[0m\u001b[0margs\u001b[0m\u001b[0;34m,\u001b[0m \u001b[0;34m**\u001b[0m\u001b[0mkwargs\u001b[0m\u001b[0;34m)\u001b[0m\u001b[0;34m\u001b[0m\u001b[0;34m\u001b[0m\u001b[0m\n\u001b[0m\u001b[1;32m   1554\u001b[0m \u001b[0;34m\u001b[0m\u001b[0m\n\u001b[1;32m   1555\u001b[0m     \u001b[0;32mdef\u001b[0m \u001b[0m_call_impl\u001b[0m\u001b[0;34m(\u001b[0m\u001b[0mself\u001b[0m\u001b[0;34m,\u001b[0m \u001b[0;34m*\u001b[0m\u001b[0margs\u001b[0m\u001b[0;34m,\u001b[0m \u001b[0;34m**\u001b[0m\u001b[0mkwargs\u001b[0m\u001b[0;34m)\u001b[0m\u001b[0;34m:\u001b[0m\u001b[0;34m\u001b[0m\u001b[0;34m\u001b[0m\u001b[0m\n",
            "\u001b[0;32m/usr/local/lib/python3.10/dist-packages/torch/nn/modules/module.py\u001b[0m in \u001b[0;36m_call_impl\u001b[0;34m(self, *args, **kwargs)\u001b[0m\n\u001b[1;32m   1560\u001b[0m                 \u001b[0;32mor\u001b[0m \u001b[0m_global_backward_pre_hooks\u001b[0m \u001b[0;32mor\u001b[0m \u001b[0m_global_backward_hooks\u001b[0m\u001b[0;34m\u001b[0m\u001b[0;34m\u001b[0m\u001b[0m\n\u001b[1;32m   1561\u001b[0m                 or _global_forward_hooks or _global_forward_pre_hooks):\n\u001b[0;32m-> 1562\u001b[0;31m             \u001b[0;32mreturn\u001b[0m \u001b[0mforward_call\u001b[0m\u001b[0;34m(\u001b[0m\u001b[0;34m*\u001b[0m\u001b[0margs\u001b[0m\u001b[0;34m,\u001b[0m \u001b[0;34m**\u001b[0m\u001b[0mkwargs\u001b[0m\u001b[0;34m)\u001b[0m\u001b[0;34m\u001b[0m\u001b[0;34m\u001b[0m\u001b[0m\n\u001b[0m\u001b[1;32m   1563\u001b[0m \u001b[0;34m\u001b[0m\u001b[0m\n\u001b[1;32m   1564\u001b[0m         \u001b[0;32mtry\u001b[0m\u001b[0;34m:\u001b[0m\u001b[0;34m\u001b[0m\u001b[0;34m\u001b[0m\u001b[0m\n",
            "\u001b[0;32m/usr/local/lib/python3.10/dist-packages/torch/nn/modules/linear.py\u001b[0m in \u001b[0;36mforward\u001b[0;34m(self, input)\u001b[0m\n\u001b[1;32m    115\u001b[0m \u001b[0;34m\u001b[0m\u001b[0m\n\u001b[1;32m    116\u001b[0m     \u001b[0;32mdef\u001b[0m \u001b[0mforward\u001b[0m\u001b[0;34m(\u001b[0m\u001b[0mself\u001b[0m\u001b[0;34m,\u001b[0m \u001b[0minput\u001b[0m\u001b[0;34m:\u001b[0m \u001b[0mTensor\u001b[0m\u001b[0;34m)\u001b[0m \u001b[0;34m->\u001b[0m \u001b[0mTensor\u001b[0m\u001b[0;34m:\u001b[0m\u001b[0;34m\u001b[0m\u001b[0;34m\u001b[0m\u001b[0m\n\u001b[0;32m--> 117\u001b[0;31m         \u001b[0;32mreturn\u001b[0m \u001b[0mF\u001b[0m\u001b[0;34m.\u001b[0m\u001b[0mlinear\u001b[0m\u001b[0;34m(\u001b[0m\u001b[0minput\u001b[0m\u001b[0;34m,\u001b[0m \u001b[0mself\u001b[0m\u001b[0;34m.\u001b[0m\u001b[0mweight\u001b[0m\u001b[0;34m,\u001b[0m \u001b[0mself\u001b[0m\u001b[0;34m.\u001b[0m\u001b[0mbias\u001b[0m\u001b[0;34m)\u001b[0m\u001b[0;34m\u001b[0m\u001b[0;34m\u001b[0m\u001b[0m\n\u001b[0m\u001b[1;32m    118\u001b[0m \u001b[0;34m\u001b[0m\u001b[0m\n\u001b[1;32m    119\u001b[0m     \u001b[0;32mdef\u001b[0m \u001b[0mextra_repr\u001b[0m\u001b[0;34m(\u001b[0m\u001b[0mself\u001b[0m\u001b[0;34m)\u001b[0m \u001b[0;34m->\u001b[0m \u001b[0mstr\u001b[0m\u001b[0;34m:\u001b[0m\u001b[0;34m\u001b[0m\u001b[0;34m\u001b[0m\u001b[0m\n",
            "\u001b[0;31mRuntimeError\u001b[0m: mat1 and mat2 must have the same dtype, but got Double and Float"
          ]
        }
      ]
    },
    {
      "cell_type": "code",
      "source": [],
      "metadata": {
        "id": "_mUvVZ1lBfY8"
      },
      "id": "_mUvVZ1lBfY8",
      "execution_count": null,
      "outputs": []
    },
    {
      "cell_type": "code",
      "source": [],
      "metadata": {
        "id": "ncLDhBu5Bfg8"
      },
      "id": "ncLDhBu5Bfg8",
      "execution_count": null,
      "outputs": []
    },
    {
      "cell_type": "code",
      "source": [
        "class SineNet(torch.nn.Module):\n",
        "    def __init__(self, n_hidden_neurons):\n",
        "        super(SineNet, self).__init__()\n",
        "        self.fc1 = torch.nn.Linear(1, n_hidden_neurons)\n",
        "        self.act1 = torch.nn.Sigmoid()\n",
        "        self.fc2 = torch.nn.Linear(n_hidden_neurons, 1)\n",
        "\n",
        "    def forward(self, x):\n",
        "       # print(type(self.weight))\n",
        "       # print(type(self.bias))\n",
        "        x = self.fc1(x)\n",
        "        x = self.act1(x)\n",
        "        x = self.fc2(x)\n",
        "        return x\n",
        "\n",
        "#     def forward(self, x):\n",
        "#        # Convert input to tensor with data type int64\n",
        "#        x_padded = pad_sequence(x, batch_first=True, padding_value=0)#.double()  # Ensure dtype matches model weights\n",
        "        #embedded = self.embedding(x_padded)\n",
        "        #embedded_avg = torch.mean(embedded, dim=1)\n",
        "#        output = self.input(x_padded) **>>>>>>>> error here**\n",
        "#        return torch.sigmoid(output)\n",
        "\n",
        "sine_net = SineNet(3)"
      ],
      "metadata": {
        "id": "FwG4kQ_n7KuS"
      },
      "id": "FwG4kQ_n7KuS",
      "execution_count": 45,
      "outputs": []
    },
    {
      "cell_type": "code",
      "source": [],
      "metadata": {
        "id": "0e94k9Aa_9aI"
      },
      "id": "0e94k9Aa_9aI",
      "execution_count": null,
      "outputs": []
    },
    {
      "cell_type": "code",
      "source": [],
      "metadata": {
        "id": "3hdOFUej_9f_"
      },
      "id": "3hdOFUej_9f_",
      "execution_count": null,
      "outputs": []
    },
    {
      "cell_type": "code",
      "source": [],
      "metadata": {
        "id": "DxYLl6Fv_9ly"
      },
      "id": "DxYLl6Fv_9ly",
      "execution_count": null,
      "outputs": []
    },
    {
      "cell_type": "code",
      "source": [],
      "metadata": {
        "id": "KYebKUCr_9uf"
      },
      "id": "KYebKUCr_9uf",
      "execution_count": null,
      "outputs": []
    },
    {
      "cell_type": "code",
      "source": [
        "def predict(net, x, y):\n",
        "    y_pred = net.forward(x)\n",
        "\n",
        "    plt.plot(x.numpy(), y.numpy(), 'o', label='Groud truth')\n",
        "    plt.plot(x.numpy(), y_pred.data.numpy(), 'o', c='r', label='Prediction');\n",
        "    plt.legend(loc='upper left')\n",
        "    plt.xlabel('$x$')\n",
        "    plt.ylabel('$y$')\n"
      ],
      "metadata": {
        "id": "CzhD10WR7K15"
      },
      "id": "CzhD10WR7K15",
      "execution_count": 10,
      "outputs": []
    },
    {
      "cell_type": "code",
      "source": [
        "\n",
        "predict(sine_net, x_validation, y_validation)"
      ],
      "metadata": {
        "id": "JUjDIfuD7h10"
      },
      "id": "JUjDIfuD7h10",
      "execution_count": null,
      "outputs": []
    },
    {
      "cell_type": "code",
      "source": [],
      "metadata": {
        "id": "kWI4xYYF7iBs"
      },
      "id": "kWI4xYYF7iBs",
      "execution_count": null,
      "outputs": []
    },
    {
      "cell_type": "code",
      "source": [
        "optimizer = torch.optim.Adam(sine_net.parameters(), lr=0.01)"
      ],
      "metadata": {
        "colab": {
          "base_uri": "https://localhost:8080/",
          "height": 141
        },
        "id": "qv0fl9FZ69oH",
        "outputId": "4752312a-3722-4125-c61d-c8507f5be759"
      },
      "id": "qv0fl9FZ69oH",
      "execution_count": 8,
      "outputs": [
        {
          "output_type": "error",
          "ename": "NameError",
          "evalue": "name 'sine_net' is not defined",
          "traceback": [
            "\u001b[0;31m---------------------------------------------------------------------------\u001b[0m",
            "\u001b[0;31mNameError\u001b[0m                                 Traceback (most recent call last)",
            "\u001b[0;32m<ipython-input-8-f2f6344afc99>\u001b[0m in \u001b[0;36m<cell line: 1>\u001b[0;34m()\u001b[0m\n\u001b[0;32m----> 1\u001b[0;31m \u001b[0moptimizer\u001b[0m \u001b[0;34m=\u001b[0m \u001b[0mtorch\u001b[0m\u001b[0;34m.\u001b[0m\u001b[0moptim\u001b[0m\u001b[0;34m.\u001b[0m\u001b[0mAdam\u001b[0m\u001b[0;34m(\u001b[0m\u001b[0msine_net\u001b[0m\u001b[0;34m.\u001b[0m\u001b[0mparameters\u001b[0m\u001b[0;34m(\u001b[0m\u001b[0;34m)\u001b[0m\u001b[0;34m,\u001b[0m \u001b[0mlr\u001b[0m\u001b[0;34m=\u001b[0m\u001b[0;36m0.01\u001b[0m\u001b[0;34m)\u001b[0m\u001b[0;34m\u001b[0m\u001b[0;34m\u001b[0m\u001b[0m\n\u001b[0m",
            "\u001b[0;31mNameError\u001b[0m: name 'sine_net' is not defined"
          ]
        }
      ]
    },
    {
      "cell_type": "code",
      "source": [],
      "metadata": {
        "id": "-XvXYHvm7KmK"
      },
      "id": "-XvXYHvm7KmK",
      "execution_count": null,
      "outputs": []
    },
    {
      "cell_type": "code",
      "source": [],
      "metadata": {
        "id": "SfgSMoH-7K-a"
      },
      "id": "SfgSMoH-7K-a",
      "execution_count": null,
      "outputs": []
    },
    {
      "cell_type": "code",
      "execution_count": 5,
      "id": "0c20855d-1a55-48e3-b778-9fc630d68697",
      "metadata": {
        "id": "0c20855d-1a55-48e3-b778-9fc630d68697"
      },
      "outputs": [],
      "source": [
        "x_np = np.linspace(-10, 10, 20000)\n",
        "y_np = np.linspace(-10, 10, 20000)"
      ]
    },
    {
      "cell_type": "code",
      "execution_count": 6,
      "id": "908ef3e7-6cd2-4518-9beb-671f7ad5c7c6",
      "metadata": {
        "id": "908ef3e7-6cd2-4518-9beb-671f7ad5c7c6"
      },
      "outputs": [],
      "source": [
        "#sin(x + 2*y)exp(-(2x + y)^2)\n",
        "z_np = np.sin(x_np * 2 ** y_np) * np.exp(-(2 * x_np + y_np)**2)"
      ]
    },
    {
      "cell_type": "code",
      "execution_count": 7,
      "id": "11f53bfe-852a-46a2-890f-f2d1b39397a5",
      "metadata": {
        "id": "11f53bfe-852a-46a2-890f-f2d1b39397a5"
      },
      "outputs": [],
      "source": [
        "x_dt =pd.DataFrame(x_np, columns=['X'])\n"
      ]
    },
    {
      "cell_type": "code",
      "execution_count": null,
      "id": "8aac3dfd-dee5-442e-849b-93445a52d4f5",
      "metadata": {
        "id": "8aac3dfd-dee5-442e-849b-93445a52d4f5",
        "outputId": "fd9b7bab-9e78-48fb-a22b-61f20d632380"
      },
      "outputs": [
        {
          "data": {
            "text/html": [
              "<div>\n",
              "<style scoped>\n",
              "    .dataframe tbody tr th:only-of-type {\n",
              "        vertical-align: middle;\n",
              "    }\n",
              "\n",
              "    .dataframe tbody tr th {\n",
              "        vertical-align: top;\n",
              "    }\n",
              "\n",
              "    .dataframe thead th {\n",
              "        text-align: right;\n",
              "    }\n",
              "</style>\n",
              "<table border=\"1\" class=\"dataframe\">\n",
              "  <thead>\n",
              "    <tr style=\"text-align: right;\">\n",
              "      <th></th>\n",
              "      <th>X</th>\n",
              "    </tr>\n",
              "  </thead>\n",
              "  <tbody>\n",
              "    <tr>\n",
              "      <th>0</th>\n",
              "      <td>-10.000</td>\n",
              "    </tr>\n",
              "    <tr>\n",
              "      <th>1</th>\n",
              "      <td>-9.999</td>\n",
              "    </tr>\n",
              "    <tr>\n",
              "      <th>2</th>\n",
              "      <td>-9.998</td>\n",
              "    </tr>\n",
              "    <tr>\n",
              "      <th>3</th>\n",
              "      <td>-9.997</td>\n",
              "    </tr>\n",
              "    <tr>\n",
              "      <th>4</th>\n",
              "      <td>-9.996</td>\n",
              "    </tr>\n",
              "  </tbody>\n",
              "</table>\n",
              "</div>"
            ],
            "text/plain": [
              "        X\n",
              "0 -10.000\n",
              "1  -9.999\n",
              "2  -9.998\n",
              "3  -9.997\n",
              "4  -9.996"
            ]
          },
          "execution_count": 53,
          "metadata": {},
          "output_type": "execute_result"
        }
      ],
      "source": [
        "x_dt.head()"
      ]
    },
    {
      "cell_type": "code",
      "execution_count": null,
      "id": "f465035d-fa24-4e9e-a9bf-cd75df2de82e",
      "metadata": {
        "id": "f465035d-fa24-4e9e-a9bf-cd75df2de82e"
      },
      "outputs": [],
      "source": [
        "y_dt =pd.DataFrame(y_np, columns=['Y'])"
      ]
    },
    {
      "cell_type": "code",
      "execution_count": null,
      "id": "f7176435-ff57-4981-8d4f-cc2b0d60f256",
      "metadata": {
        "id": "f7176435-ff57-4981-8d4f-cc2b0d60f256",
        "outputId": "f9b99e71-f467-4f2d-a6f0-a27dc7333dfa"
      },
      "outputs": [
        {
          "data": {
            "text/html": [
              "<div>\n",
              "<style scoped>\n",
              "    .dataframe tbody tr th:only-of-type {\n",
              "        vertical-align: middle;\n",
              "    }\n",
              "\n",
              "    .dataframe tbody tr th {\n",
              "        vertical-align: top;\n",
              "    }\n",
              "\n",
              "    .dataframe thead th {\n",
              "        text-align: right;\n",
              "    }\n",
              "</style>\n",
              "<table border=\"1\" class=\"dataframe\">\n",
              "  <thead>\n",
              "    <tr style=\"text-align: right;\">\n",
              "      <th></th>\n",
              "      <th>Y</th>\n",
              "    </tr>\n",
              "  </thead>\n",
              "  <tbody>\n",
              "    <tr>\n",
              "      <th>0</th>\n",
              "      <td>-10.000</td>\n",
              "    </tr>\n",
              "    <tr>\n",
              "      <th>1</th>\n",
              "      <td>-9.999</td>\n",
              "    </tr>\n",
              "    <tr>\n",
              "      <th>2</th>\n",
              "      <td>-9.998</td>\n",
              "    </tr>\n",
              "    <tr>\n",
              "      <th>3</th>\n",
              "      <td>-9.997</td>\n",
              "    </tr>\n",
              "    <tr>\n",
              "      <th>4</th>\n",
              "      <td>-9.996</td>\n",
              "    </tr>\n",
              "  </tbody>\n",
              "</table>\n",
              "</div>"
            ],
            "text/plain": [
              "        Y\n",
              "0 -10.000\n",
              "1  -9.999\n",
              "2  -9.998\n",
              "3  -9.997\n",
              "4  -9.996"
            ]
          },
          "execution_count": 54,
          "metadata": {},
          "output_type": "execute_result"
        }
      ],
      "source": [
        "y_dt.head()"
      ]
    },
    {
      "cell_type": "code",
      "execution_count": null,
      "id": "0bf1ffbd-cfec-4a35-8de0-27952412627c",
      "metadata": {
        "id": "0bf1ffbd-cfec-4a35-8de0-27952412627c"
      },
      "outputs": [],
      "source": [
        "z_dt =pd.DataFrame(z_np, columns=['Z'])"
      ]
    },
    {
      "cell_type": "code",
      "execution_count": null,
      "id": "4dcb2e7c-2a3e-40ab-9640-98dd930dded2",
      "metadata": {
        "id": "4dcb2e7c-2a3e-40ab-9640-98dd930dded2"
      },
      "outputs": [],
      "source": [
        "xy_dt = x_dt.join(y_dt)"
      ]
    },
    {
      "cell_type": "markdown",
      "id": "c96d0e16-0769-4864-b29f-01e8ecc114ea",
      "metadata": {
        "id": "c96d0e16-0769-4864-b29f-01e8ecc114ea"
      },
      "source": [
        "## Эксперимент 1"
      ]
    },
    {
      "cell_type": "code",
      "execution_count": 8,
      "id": "eca17586-5c89-4a34-8333-2bb57ddb791d",
      "metadata": {
        "id": "eca17586-5c89-4a34-8333-2bb57ddb791d"
      },
      "outputs": [],
      "source": [
        "from sklearn.linear_model import LinearRegression\n",
        "from sklearn.metrics import mean_squared_error, mean_absolute_error\n"
      ]
    },
    {
      "cell_type": "code",
      "execution_count": 9,
      "id": "c4cff492-a08a-4414-bbd9-52c20ca66526",
      "metadata": {
        "id": "c4cff492-a08a-4414-bbd9-52c20ca66526"
      },
      "outputs": [],
      "source": [
        "from mpl_toolkits.mplot3d import Axes3D"
      ]
    },
    {
      "cell_type": "code",
      "execution_count": null,
      "id": "79de329f-79f1-41f9-9319-b27acfa8929b",
      "metadata": {
        "id": "79de329f-79f1-41f9-9319-b27acfa8929b"
      },
      "outputs": [],
      "source": [
        "x_train_1, x_test_1, y_train_1, x_test_1 = train_test_split(x_dt,y_dt,test_size=0.3,  random_state=42)"
      ]
    },
    {
      "cell_type": "code",
      "execution_count": null,
      "id": "27fb59e4-7de8-4d2d-92ab-3c6b676b5147",
      "metadata": {
        "id": "27fb59e4-7de8-4d2d-92ab-3c6b676b5147"
      },
      "outputs": [],
      "source": [
        "x_train_1, x_test_1, y_train_1, x_test_1 = train_test_split(x_dt,y_dt,test_size=0.3,  random_state=42)"
      ]
    },
    {
      "cell_type": "code",
      "execution_count": null,
      "id": "41004df2-b286-47c1-a73c-db36cdcd9cbb",
      "metadata": {
        "id": "41004df2-b286-47c1-a73c-db36cdcd9cbb",
        "outputId": "4604b41b-f7a7-4887-c005-222456594a66"
      },
      "outputs": [
        {
          "name": "stdout",
          "output_type": "stream",
          "text": [
            "Intercept: 0.0010 \n",
            "Slopes: [2.44982936e-05 2.44982936e-05]\n",
            "\n",
            "\n",
            "MAE: 0.0065\n"
          ]
        }
      ],
      "source": [
        "\n",
        "\n",
        "X = np.hstack([x_dt, y_dt])\n",
        "lin_reg = LinearRegression()\n",
        "lin_reg.fit(X, z_dt)\n",
        "print(\"Intercept: {:.4f} \\nSlopes: {}\\n\".format(lin_reg.intercept_[0], lin_reg.coef_[0]))\n",
        "z_pred = lin_reg.predict(X)\n",
        "print(\"\\nMAE: {:.4f}\".format(mean_absolute_error(z_pred, z_dt)))"
      ]
    },
    {
      "cell_type": "code",
      "execution_count": null,
      "id": "6a45cf1e-edd5-495d-a89a-5d1fb679470b",
      "metadata": {
        "id": "6a45cf1e-edd5-495d-a89a-5d1fb679470b"
      },
      "outputs": [],
      "source": [
        "def plane(x1, x2):\n",
        "    return 0.0010  + 2.44982936e-05 * x1  + 2.44982936e-05 * x2"
      ]
    },
    {
      "cell_type": "code",
      "execution_count": null,
      "id": "9d215f2e-27f8-4b06-9247-9a6f79716181",
      "metadata": {
        "id": "9d215f2e-27f8-4b06-9247-9a6f79716181",
        "outputId": "5b4dae08-669f-4929-cd6e-2145c27310fd"
      },
      "outputs": [
        {
          "data": {
            "text/plain": [
              "array([[-10.        , -10.        ],\n",
              "       [ -9.99899995,  -9.99899995],\n",
              "       [ -9.9979999 ,  -9.9979999 ],\n",
              "       ...,\n",
              "       [  9.9979999 ,   9.9979999 ],\n",
              "       [  9.99899995,   9.99899995],\n",
              "       [ 10.        ,  10.        ]])"
            ]
          },
          "execution_count": 35,
          "metadata": {},
          "output_type": "execute_result"
        }
      ],
      "source": [
        "X"
      ]
    },
    {
      "cell_type": "code",
      "execution_count": null,
      "id": "9172e8ba-df11-411f-b860-95453f0a04fe",
      "metadata": {
        "id": "9172e8ba-df11-411f-b860-95453f0a04fe",
        "outputId": "1de6455a-2afd-4c31-a453-e741776b6fed"
      },
      "outputs": [
        {
          "data": {
            "text/plain": [
              "<Figure size 2000x1000 with 0 Axes>"
            ]
          },
          "metadata": {},
          "output_type": "display_data"
        }
      ],
      "source": [
        "fig=plt.figure(figsize=(20, 10))\n",
        "ax = Axes3D(fig)\n",
        "\n",
        "#x1_surfs = np.arange(0, 2.5, 0.5)\n",
        "#x2_surfs = np.arange(0, 5.0, 1)\n",
        "#x1_surf, x2_surf = np.meshgrid(x1_surfs, x2_surfs)\n",
        "\n",
        "#zs_pred = np.array([lin_reg.predict(np.array([[x_i, y_i]])) for x_i, y_i in zip(np.ravel(x1_surf), np.ravel(x2_surf))])\n",
        "#z_predicted = zs_pred.reshape(x1_surf.shape)\n",
        "#ax.plot_surface(x1_surf, x2_surf, z_predicted, alpha=0.2, color='blue')\n",
        "ax.scatter(x_np, y_np, z_np, marker='o')\n",
        "\n",
        "ax.set_title(\"Linear Regression \")\n",
        "ax.set_xlabel(\"x (feature)\")\n",
        "ax.set_ylabel(\"y (feature)\")\n",
        "ax.set_zlabel(\"z (target)\")\n",
        "\n",
        "plt.show()"
      ]
    },
    {
      "cell_type": "code",
      "execution_count": 3,
      "id": "e65fb486-5309-46f2-8f8b-e865ac73642d",
      "metadata": {
        "id": "e65fb486-5309-46f2-8f8b-e865ac73642d"
      },
      "outputs": [],
      "source": [
        "import numpy as np\n",
        "import numpy.linalg as la\n",
        "import matplotlib\n",
        "import matplotlib.pyplot as plt\n",
        "import pandas as pd\n",
        "from mpl_toolkits.mplot3d import Axes3D\n",
        "from matplotlib import cm\n",
        "from sklearn import datasets\n",
        "from sklearn.preprocessing import StandardScaler\n",
        "from sklearn.metrics import mean_squared_error, mean_absolute_error\n",
        "\n",
        "%matplotlib inline\n",
        "np.random.seed(123)\n",
        "\n",
        "import warnings\n",
        "warnings.filterwarnings(\"ignore\")"
      ]
    },
    {
      "cell_type": "code",
      "execution_count": 1,
      "id": "b4f453a0-837b-43fd-b8fe-7e37c45b5b0a",
      "metadata": {
        "colab": {
          "base_uri": "https://localhost:8080/",
          "height": 211
        },
        "id": "b4f453a0-837b-43fd-b8fe-7e37c45b5b0a",
        "outputId": "fa8e3353-8d09-4b5b-cbd7-b01c1e459da7"
      },
      "outputs": [
        {
          "output_type": "error",
          "ename": "NameError",
          "evalue": "name 'plt' is not defined",
          "traceback": [
            "\u001b[0;31m---------------------------------------------------------------------------\u001b[0m",
            "\u001b[0;31mNameError\u001b[0m                                 Traceback (most recent call last)",
            "\u001b[0;32m<ipython-input-1-a817715fd12d>\u001b[0m in \u001b[0;36m<cell line: 1>\u001b[0;34m()\u001b[0m\n\u001b[0;32m----> 1\u001b[0;31m \u001b[0mplt\u001b[0m\u001b[0;34m.\u001b[0m\u001b[0mrcParams\u001b[0m\u001b[0;34m[\u001b[0m\u001b[0;34m\"figure.figsize\"\u001b[0m\u001b[0;34m]\u001b[0m \u001b[0;34m=\u001b[0m \u001b[0;34m[\u001b[0m\u001b[0;36m9\u001b[0m\u001b[0;34m,\u001b[0m \u001b[0;36m6\u001b[0m\u001b[0;34m]\u001b[0m\u001b[0;34m\u001b[0m\u001b[0;34m\u001b[0m\u001b[0m\n\u001b[0m\u001b[1;32m      2\u001b[0m \u001b[0mfig\u001b[0m\u001b[0;34m=\u001b[0m\u001b[0mplt\u001b[0m\u001b[0;34m.\u001b[0m\u001b[0mfigure\u001b[0m\u001b[0;34m(\u001b[0m\u001b[0;34m)\u001b[0m\u001b[0;34m\u001b[0m\u001b[0;34m\u001b[0m\u001b[0m\n\u001b[1;32m      3\u001b[0m \u001b[0max\u001b[0m \u001b[0;34m=\u001b[0m \u001b[0mAxes3D\u001b[0m\u001b[0;34m(\u001b[0m\u001b[0mfig\u001b[0m\u001b[0;34m)\u001b[0m\u001b[0;34m\u001b[0m\u001b[0;34m\u001b[0m\u001b[0m\n\u001b[1;32m      4\u001b[0m \u001b[0;34m\u001b[0m\u001b[0m\n\u001b[1;32m      5\u001b[0m \u001b[0mx1\u001b[0m \u001b[0;34m=\u001b[0m \u001b[0;36m2\u001b[0m \u001b[0;34m*\u001b[0m \u001b[0mnp\u001b[0m\u001b[0;34m.\u001b[0m\u001b[0mrandom\u001b[0m\u001b[0;34m.\u001b[0m\u001b[0mrand\u001b[0m\u001b[0;34m(\u001b[0m\u001b[0;36m100\u001b[0m\u001b[0;34m,\u001b[0m \u001b[0;36m1\u001b[0m\u001b[0;34m)\u001b[0m\u001b[0;34m\u001b[0m\u001b[0;34m\u001b[0m\u001b[0m\n",
            "\u001b[0;31mNameError\u001b[0m: name 'plt' is not defined"
          ]
        }
      ],
      "source": [
        "plt.rcParams[\"figure.figsize\"] = [9, 6]\n",
        "fig=plt.figure()\n",
        "ax = Axes3D(fig)\n",
        "\n",
        "x1 = 2 * np.random.rand(100, 1)\n",
        "x2 = 5 * np.random.rand(100, 1)\n",
        "\n",
        "# y = 4 + 3*x_1 + 1*x_2\n",
        "y = 4 + 3 * x1 + 1* x2 + np.random.randn(100, 1)\n",
        "\n",
        "ax.scatter(x1, x2, y, marker='o')\n",
        "ax.set_title(\"Regression problem \\n What is y value for new (x1, x2)?\")\n",
        "ax.set_xlabel(\"x1 (feature)\")\n",
        "ax.set_ylabel(\"x2 (feature)\")\n",
        "ax.set_zlabel(\"y (target)\")\n",
        "plt.show();"
      ]
    },
    {
      "cell_type": "markdown",
      "id": "390719eb-d58c-48f5-93b3-3a5d36551d5d",
      "metadata": {
        "id": "390719eb-d58c-48f5-93b3-3a5d36551d5d"
      },
      "source": [
        "## 2. Делим данные train, test, val."
      ]
    },
    {
      "cell_type": "code",
      "execution_count": null,
      "id": "7fcc49e2-b4a8-4217-bc58-5c1068b56262",
      "metadata": {
        "id": "7fcc49e2-b4a8-4217-bc58-5c1068b56262"
      },
      "outputs": [],
      "source": [
        "XY_train, XY_test_val, Z_train, Z_test_val = train_test_split(xy_dt,z_dt,test_size=0.3,  random_state=42)"
      ]
    },
    {
      "cell_type": "code",
      "execution_count": null,
      "id": "cf47ef3f-8a7a-42af-9e76-69e62a4dae26",
      "metadata": {
        "id": "cf47ef3f-8a7a-42af-9e76-69e62a4dae26",
        "outputId": "df446135-918f-4f3d-9698-57c13990e36b"
      },
      "outputs": [
        {
          "data": {
            "text/plain": [
              "X    14000\n",
              "Y    14000\n",
              "dtype: int64"
            ]
          },
          "execution_count": 67,
          "metadata": {},
          "output_type": "execute_result"
        }
      ],
      "source": [
        "XY_train.count()"
      ]
    },
    {
      "cell_type": "code",
      "execution_count": null,
      "id": "5764f1c5-3dca-4cf9-9605-e53dd65df5dc",
      "metadata": {
        "id": "5764f1c5-3dca-4cf9-9605-e53dd65df5dc"
      },
      "outputs": [],
      "source": [
        "XY_test, XY_val, Z_test, Z_val = train_test_split(XY_test_val,Z_test_val,test_size=0.5,  random_state=42)"
      ]
    },
    {
      "cell_type": "code",
      "execution_count": null,
      "id": "9cdea2db-8fd6-4a19-be44-1073d4e31d80",
      "metadata": {
        "id": "9cdea2db-8fd6-4a19-be44-1073d4e31d80"
      },
      "outputs": [],
      "source": [
        "xy_train = torch.from_numpy(XY_train.values).float()\n",
        "z_train = torch.from_numpy(Z_train.values).float()"
      ]
    },
    {
      "cell_type": "code",
      "execution_count": null,
      "id": "953309c3-4bc2-4c41-ad3c-41d51a052919",
      "metadata": {
        "id": "953309c3-4bc2-4c41-ad3c-41d51a052919"
      },
      "outputs": [],
      "source": [
        "xy_test = torch.from_numpy(XY_test.values).float()\n",
        "z_test = torch.from_numpy(Z_test.values).float()\n",
        "xy_val = torch.from_numpy(XY_val.values).float()\n",
        "z_val = torch.from_numpy(Z_val.values).float()"
      ]
    },
    {
      "cell_type": "code",
      "execution_count": null,
      "id": "dd00d0a5-15a8-4230-9de4-e8df25724d17",
      "metadata": {
        "id": "dd00d0a5-15a8-4230-9de4-e8df25724d17"
      },
      "outputs": [],
      "source": [
        "x_train = torch.from_numpy(XY_train.X.values).float()\n",
        "y_train = torch.from_numpy(XY_train.Y.values).float()\n",
        "z_train = torch.from_numpy(Z_train.values).float()"
      ]
    },
    {
      "cell_type": "code",
      "execution_count": null,
      "id": "a602b57e-8165-467d-bef7-c1a119951f2f",
      "metadata": {
        "id": "a602b57e-8165-467d-bef7-c1a119951f2f",
        "outputId": "b2f1c00f-a14d-4ad8-e945-2e4c3d20959f"
      },
      "outputs": [
        {
          "ename": "ValueError",
          "evalue": "Found input variables with inconsistent numbers of samples: [20000, 3000]",
          "output_type": "error",
          "traceback": [
            "\u001b[1;31m---------------------------------------------------------------------------\u001b[0m",
            "\u001b[1;31mValueError\u001b[0m                                Traceback (most recent call last)",
            "Cell \u001b[1;32mIn[23], line 5\u001b[0m\n\u001b[0;32m      3\u001b[0m X \u001b[38;5;241m=\u001b[39m np\u001b[38;5;241m.\u001b[39mhstack([x_dt, y_dt])\n\u001b[0;32m      4\u001b[0m lin_reg \u001b[38;5;241m=\u001b[39m LinearRegression()\n\u001b[1;32m----> 5\u001b[0m lin_reg\u001b[38;5;241m.\u001b[39mfit(X, Z_test)\n\u001b[0;32m      6\u001b[0m \u001b[38;5;28mprint\u001b[39m(\u001b[38;5;124m\"\u001b[39m\u001b[38;5;124mIntercept: \u001b[39m\u001b[38;5;132;01m{:.4f}\u001b[39;00m\u001b[38;5;124m \u001b[39m\u001b[38;5;130;01m\\n\u001b[39;00m\u001b[38;5;124mSlopes: \u001b[39m\u001b[38;5;132;01m{}\u001b[39;00m\u001b[38;5;130;01m\\n\u001b[39;00m\u001b[38;5;124m\"\u001b[39m\u001b[38;5;241m.\u001b[39mformat(lin_reg\u001b[38;5;241m.\u001b[39mintercept_[\u001b[38;5;241m0\u001b[39m], lin_reg\u001b[38;5;241m.\u001b[39mcoef_[\u001b[38;5;241m0\u001b[39m]))\n\u001b[0;32m      7\u001b[0m y_pred \u001b[38;5;241m=\u001b[39m lin_reg\u001b[38;5;241m.\u001b[39mpredict(X)\n",
            "File \u001b[1;32m~\\.conda\\envs\\pytorch-env\\Lib\\site-packages\\sklearn\\base.py:1473\u001b[0m, in \u001b[0;36m_fit_context.<locals>.decorator.<locals>.wrapper\u001b[1;34m(estimator, *args, **kwargs)\u001b[0m\n\u001b[0;32m   1466\u001b[0m     estimator\u001b[38;5;241m.\u001b[39m_validate_params()\n\u001b[0;32m   1468\u001b[0m \u001b[38;5;28;01mwith\u001b[39;00m config_context(\n\u001b[0;32m   1469\u001b[0m     skip_parameter_validation\u001b[38;5;241m=\u001b[39m(\n\u001b[0;32m   1470\u001b[0m         prefer_skip_nested_validation \u001b[38;5;129;01mor\u001b[39;00m global_skip_validation\n\u001b[0;32m   1471\u001b[0m     )\n\u001b[0;32m   1472\u001b[0m ):\n\u001b[1;32m-> 1473\u001b[0m     \u001b[38;5;28;01mreturn\u001b[39;00m fit_method(estimator, \u001b[38;5;241m*\u001b[39margs, \u001b[38;5;241m*\u001b[39m\u001b[38;5;241m*\u001b[39mkwargs)\n",
            "File \u001b[1;32m~\\.conda\\envs\\pytorch-env\\Lib\\site-packages\\sklearn\\linear_model\\_base.py:609\u001b[0m, in \u001b[0;36mLinearRegression.fit\u001b[1;34m(self, X, y, sample_weight)\u001b[0m\n\u001b[0;32m    605\u001b[0m n_jobs_ \u001b[38;5;241m=\u001b[39m \u001b[38;5;28mself\u001b[39m\u001b[38;5;241m.\u001b[39mn_jobs\n\u001b[0;32m    607\u001b[0m accept_sparse \u001b[38;5;241m=\u001b[39m \u001b[38;5;28;01mFalse\u001b[39;00m \u001b[38;5;28;01mif\u001b[39;00m \u001b[38;5;28mself\u001b[39m\u001b[38;5;241m.\u001b[39mpositive \u001b[38;5;28;01melse\u001b[39;00m [\u001b[38;5;124m\"\u001b[39m\u001b[38;5;124mcsr\u001b[39m\u001b[38;5;124m\"\u001b[39m, \u001b[38;5;124m\"\u001b[39m\u001b[38;5;124mcsc\u001b[39m\u001b[38;5;124m\"\u001b[39m, \u001b[38;5;124m\"\u001b[39m\u001b[38;5;124mcoo\u001b[39m\u001b[38;5;124m\"\u001b[39m]\n\u001b[1;32m--> 609\u001b[0m X, y \u001b[38;5;241m=\u001b[39m \u001b[38;5;28mself\u001b[39m\u001b[38;5;241m.\u001b[39m_validate_data(\n\u001b[0;32m    610\u001b[0m     X,\n\u001b[0;32m    611\u001b[0m     y,\n\u001b[0;32m    612\u001b[0m     accept_sparse\u001b[38;5;241m=\u001b[39maccept_sparse,\n\u001b[0;32m    613\u001b[0m     y_numeric\u001b[38;5;241m=\u001b[39m\u001b[38;5;28;01mTrue\u001b[39;00m,\n\u001b[0;32m    614\u001b[0m     multi_output\u001b[38;5;241m=\u001b[39m\u001b[38;5;28;01mTrue\u001b[39;00m,\n\u001b[0;32m    615\u001b[0m     force_writeable\u001b[38;5;241m=\u001b[39m\u001b[38;5;28;01mTrue\u001b[39;00m,\n\u001b[0;32m    616\u001b[0m )\n\u001b[0;32m    618\u001b[0m has_sw \u001b[38;5;241m=\u001b[39m sample_weight \u001b[38;5;129;01mis\u001b[39;00m \u001b[38;5;129;01mnot\u001b[39;00m \u001b[38;5;28;01mNone\u001b[39;00m\n\u001b[0;32m    619\u001b[0m \u001b[38;5;28;01mif\u001b[39;00m has_sw:\n",
            "File \u001b[1;32m~\\.conda\\envs\\pytorch-env\\Lib\\site-packages\\sklearn\\base.py:650\u001b[0m, in \u001b[0;36mBaseEstimator._validate_data\u001b[1;34m(self, X, y, reset, validate_separately, cast_to_ndarray, **check_params)\u001b[0m\n\u001b[0;32m    648\u001b[0m         y \u001b[38;5;241m=\u001b[39m check_array(y, input_name\u001b[38;5;241m=\u001b[39m\u001b[38;5;124m\"\u001b[39m\u001b[38;5;124my\u001b[39m\u001b[38;5;124m\"\u001b[39m, \u001b[38;5;241m*\u001b[39m\u001b[38;5;241m*\u001b[39mcheck_y_params)\n\u001b[0;32m    649\u001b[0m     \u001b[38;5;28;01melse\u001b[39;00m:\n\u001b[1;32m--> 650\u001b[0m         X, y \u001b[38;5;241m=\u001b[39m check_X_y(X, y, \u001b[38;5;241m*\u001b[39m\u001b[38;5;241m*\u001b[39mcheck_params)\n\u001b[0;32m    651\u001b[0m     out \u001b[38;5;241m=\u001b[39m X, y\n\u001b[0;32m    653\u001b[0m \u001b[38;5;28;01mif\u001b[39;00m \u001b[38;5;129;01mnot\u001b[39;00m no_val_X \u001b[38;5;129;01mand\u001b[39;00m check_params\u001b[38;5;241m.\u001b[39mget(\u001b[38;5;124m\"\u001b[39m\u001b[38;5;124mensure_2d\u001b[39m\u001b[38;5;124m\"\u001b[39m, \u001b[38;5;28;01mTrue\u001b[39;00m):\n",
            "File \u001b[1;32m~\\.conda\\envs\\pytorch-env\\Lib\\site-packages\\sklearn\\utils\\validation.py:1320\u001b[0m, in \u001b[0;36mcheck_X_y\u001b[1;34m(X, y, accept_sparse, accept_large_sparse, dtype, order, copy, force_writeable, force_all_finite, ensure_2d, allow_nd, multi_output, ensure_min_samples, ensure_min_features, y_numeric, estimator)\u001b[0m\n\u001b[0;32m   1301\u001b[0m X \u001b[38;5;241m=\u001b[39m check_array(\n\u001b[0;32m   1302\u001b[0m     X,\n\u001b[0;32m   1303\u001b[0m     accept_sparse\u001b[38;5;241m=\u001b[39maccept_sparse,\n\u001b[1;32m   (...)\u001b[0m\n\u001b[0;32m   1315\u001b[0m     input_name\u001b[38;5;241m=\u001b[39m\u001b[38;5;124m\"\u001b[39m\u001b[38;5;124mX\u001b[39m\u001b[38;5;124m\"\u001b[39m,\n\u001b[0;32m   1316\u001b[0m )\n\u001b[0;32m   1318\u001b[0m y \u001b[38;5;241m=\u001b[39m _check_y(y, multi_output\u001b[38;5;241m=\u001b[39mmulti_output, y_numeric\u001b[38;5;241m=\u001b[39my_numeric, estimator\u001b[38;5;241m=\u001b[39mestimator)\n\u001b[1;32m-> 1320\u001b[0m check_consistent_length(X, y)\n\u001b[0;32m   1322\u001b[0m \u001b[38;5;28;01mreturn\u001b[39;00m X, y\n",
            "File \u001b[1;32m~\\.conda\\envs\\pytorch-env\\Lib\\site-packages\\sklearn\\utils\\validation.py:457\u001b[0m, in \u001b[0;36mcheck_consistent_length\u001b[1;34m(*arrays)\u001b[0m\n\u001b[0;32m    455\u001b[0m uniques \u001b[38;5;241m=\u001b[39m np\u001b[38;5;241m.\u001b[39munique(lengths)\n\u001b[0;32m    456\u001b[0m \u001b[38;5;28;01mif\u001b[39;00m \u001b[38;5;28mlen\u001b[39m(uniques) \u001b[38;5;241m>\u001b[39m \u001b[38;5;241m1\u001b[39m:\n\u001b[1;32m--> 457\u001b[0m     \u001b[38;5;28;01mraise\u001b[39;00m \u001b[38;5;167;01mValueError\u001b[39;00m(\n\u001b[0;32m    458\u001b[0m         \u001b[38;5;124m\"\u001b[39m\u001b[38;5;124mFound input variables with inconsistent numbers of samples: \u001b[39m\u001b[38;5;132;01m%r\u001b[39;00m\u001b[38;5;124m\"\u001b[39m\n\u001b[0;32m    459\u001b[0m         \u001b[38;5;241m%\u001b[39m [\u001b[38;5;28mint\u001b[39m(l) \u001b[38;5;28;01mfor\u001b[39;00m l \u001b[38;5;129;01min\u001b[39;00m lengths]\n\u001b[0;32m    460\u001b[0m     )\n",
            "\u001b[1;31mValueError\u001b[0m: Found input variables with inconsistent numbers of samples: [20000, 3000]"
          ]
        }
      ],
      "source": []
    },
    {
      "cell_type": "code",
      "execution_count": null,
      "id": "c282830f-7946-4edd-98ac-15727ba9a202",
      "metadata": {
        "id": "c282830f-7946-4edd-98ac-15727ba9a202"
      },
      "outputs": [],
      "source": [
        "# Metrics\n",
        "accuracy = Accuracy(task=\"binary\")\n",
        "f1_score = F1Score(task=\"binary\")\n",
        "precision = Precision(task=\"binary\")\n",
        "recall = Recall(task=\"binary\")"
      ]
    },
    {
      "cell_type": "code",
      "execution_count": null,
      "id": "6c38fd2f-80cf-40be-839c-8ccb8c8781c8",
      "metadata": {
        "id": "6c38fd2f-80cf-40be-839c-8ccb8c8781c8",
        "outputId": "258bb06b-41d0-4c3d-a93e-2ce0942fd174"
      },
      "outputs": [
        {
          "data": {
            "image/png": "[encoded data removed]",
            "text/plain": [
              "<Figure size 640x480 with 1 Axes>"
            ]
          },
          "metadata": {},
          "output_type": "display_data"
        }
      ],
      "source": [
        "plt.plot(xy_train.numpy(), z_train.numpy(), 'o')\n",
        "plt.title('$y = sin(x)$');"
      ]
    },
    {
      "cell_type": "code",
      "execution_count": null,
      "id": "c93978f6-ff9b-4255-acfa-304966342167",
      "metadata": {
        "id": "c93978f6-ff9b-4255-acfa-304966342167",
        "outputId": "e0f7b051-bf77-4cb4-bd22-3bb00395dd11"
      },
      "outputs": [
        {
          "data": {
            "image/png": "[encoded data removed]",
            "text/plain": [
              "<Figure size 640x480 with 1 Axes>"
            ]
          },
          "metadata": {},
          "output_type": "display_data"
        }
      ],
      "source": [
        "plt.plot(xy_test.numpy(), z_test.numpy(), 'o')\n",
        "plt.title('$y = sin(x)$');"
      ]
    },
    {
      "cell_type": "code",
      "execution_count": null,
      "id": "4374ab70-4a27-4777-96a3-66efd9d96e82",
      "metadata": {
        "id": "4374ab70-4a27-4777-96a3-66efd9d96e82",
        "outputId": "4f917c39-bb0d-4f73-c1f7-b6a267939da7"
      },
      "outputs": [
        {
          "data": {
            "image/png": "[encoded data removed]",
            "text/plain": [
              "<Figure size 640x480 with 1 Axes>"
            ]
          },
          "metadata": {},
          "output_type": "display_data"
        }
      ],
      "source": [
        "plt.plot(xy_val.numpy(), z_val.numpy(), 'o')\n",
        "plt.title('$y = sin(x)$');"
      ]
    },
    {
      "cell_type": "code",
      "execution_count": null,
      "id": "4dc5f10c-4ec9-4e25-84f6-53d8b8282d2f",
      "metadata": {
        "id": "4dc5f10c-4ec9-4e25-84f6-53d8b8282d2f"
      },
      "outputs": [],
      "source": [
        "def lin_reg_model(X, w, Y, h, b):\n",
        "    return X @ w.t() + Y @ h.t() + b"
      ]
    },
    {
      "cell_type": "code",
      "execution_count": null,
      "id": "647f04af-621a-439d-a4b3-310efa4f5465",
      "metadata": {
        "id": "647f04af-621a-439d-a4b3-310efa4f5465"
      },
      "outputs": [],
      "source": [
        "def mse(true, predicted):\n",
        "    return ((true - predicted) ** 2).sum() / true.numel()"
      ]
    },
    {
      "cell_type": "code",
      "execution_count": null,
      "id": "5f194202-0d6d-422c-b968-d18d2b50e5ff",
      "metadata": {
        "id": "5f194202-0d6d-422c-b968-d18d2b50e5ff",
        "outputId": "9d52507a-ce6b-40fd-e6e6-3a1c5dd15a12"
      },
      "outputs": [
        {
          "ename": "IndexError",
          "evalue": "tuple index out of range",
          "output_type": "error",
          "traceback": [
            "\u001b[1;31m---------------------------------------------------------------------------\u001b[0m",
            "\u001b[1;31mIndexError\u001b[0m                                Traceback (most recent call last)",
            "Cell \u001b[1;32mIn[22], line 2\u001b[0m\n\u001b[0;32m      1\u001b[0m \u001b[38;5;66;03m# по мотивами Kaiming initialization\u001b[39;00m\n\u001b[1;32m----> 2\u001b[0m weight_x \u001b[38;5;241m=\u001b[39m torch\u001b[38;5;241m.\u001b[39mrandn(z_train\u001b[38;5;241m.\u001b[39mshape[\u001b[38;5;241m1\u001b[39m], x_train\u001b[38;5;241m.\u001b[39mshape[\u001b[38;5;241m1\u001b[39m]) \u001b[38;5;241m/\u001b[39m math\u001b[38;5;241m.\u001b[39msqrt(\u001b[38;5;241m2\u001b[39m \u001b[38;5;241m/\u001b[39m z_train\u001b[38;5;241m.\u001b[39mshape[\u001b[38;5;241m1\u001b[39m])\n\u001b[0;32m      3\u001b[0m weight_y \u001b[38;5;241m=\u001b[39m torch\u001b[38;5;241m.\u001b[39mrandn(z_train\u001b[38;5;241m.\u001b[39mshape[\u001b[38;5;241m1\u001b[39m], y_train\u001b[38;5;241m.\u001b[39mshape[\u001b[38;5;241m1\u001b[39m]) \u001b[38;5;241m/\u001b[39m math\u001b[38;5;241m.\u001b[39msqrt(\u001b[38;5;241m2\u001b[39m \u001b[38;5;241m/\u001b[39m z_train\u001b[38;5;241m.\u001b[39mshape[\u001b[38;5;241m1\u001b[39m])\n\u001b[0;32m      4\u001b[0m bias \u001b[38;5;241m=\u001b[39m torch\u001b[38;5;241m.\u001b[39mzeros(z_train\u001b[38;5;241m.\u001b[39mshape[\u001b[38;5;241m1\u001b[39m])\n",
            "\u001b[1;31mIndexError\u001b[0m: tuple index out of range"
          ]
        }
      ],
      "source": [
        "# по мотивами Kaiming initialization\n",
        "weight_x = torch.randn(z_train.shape[1], x_train.shape[1]) / math.sqrt(2 / z_train.shape[1])\n",
        "weight_y = torch.randn(z_train.shape[1], y_train.shape[1]) / math.sqrt(2 / z_train.shape[1])\n",
        "bias = torch.zeros(z_train.shape[1])\n",
        "# начинаем записывать историю вычислений\n",
        "weight_x.requires_grad_(True)\n",
        "weight_y.requires_grad_(True)\n",
        "bias.requires_grad_(True);"
      ]
    },
    {
      "cell_type": "code",
      "execution_count": null,
      "id": "b31effd0-6c9b-4534-aaa5-37e12477d1c6",
      "metadata": {
        "id": "b31effd0-6c9b-4534-aaa5-37e12477d1c6"
      },
      "outputs": [],
      "source": [
        "learning_rate = 0.01\n",
        "epochs = 10000\n",
        "\n",
        "for epoch in range(epochs):\n",
        "    # forward pass — вычисляем функцию потерь\n",
        "    predictions = lin_reg_model(x_train, weight_x, y_train, weight_y, bias)\n",
        "    loss = mse(predictions, z_train)\n",
        "    # backward paass — вычисляем градиент\n",
        "    loss.backward()\n",
        "    # вычитаем производные из параметров\n",
        "    # записывать историю вычислений уже не нужно (no_grad)\n",
        "    with torch.no_grad():\n",
        "        weight_x -= weight_x.grad * learning_rate\n",
        "        weight_y -= weight_y.grad * learning_rate\n",
        "        bias -= bias.grad * learning_rate\n",
        "        # обнуляем производные\n",
        "        weight_x.grad.zero_()\n",
        "        weight_y.grad.zero_()\n",
        "        bias.grad.zero_()\n",
        "    # выводим значение фукнции потерь каждые 2000 повторов\n",
        "    if (epoch + 1) % (epochs / 10) == 0:\n",
        "        print('epoch {}, loss {}'.format(epoch, loss.item()))"
      ]
    },
    {
      "cell_type": "code",
      "execution_count": null,
      "id": "526f5841-7895-4769-a47b-ce508deca303",
      "metadata": {
        "id": "526f5841-7895-4769-a47b-ce508deca303"
      },
      "outputs": [],
      "source": [
        "# Подготавливаем входной тензор (x, x^2, x^3) который будет поступать в сеть:\n",
        "p = torch.tensor([1, 2, 3])     # степени полинома\n",
        "xx = xy_test.unsqueeze(-1).pow(p)     # возводим входной вектор x в степени p\n",
        "##xy_test.unsqueeze(-1)\n",
        "# Инициализируем коэффициенты нашего полинома случайными значениями (выполняют роль весов модели):\n",
        "a = torch.randn((),  dtype=torch.float32)\n",
        "b = torch.randn((),  dtype=torch.float32)\n",
        "c = torch.randn((),  dtype=torch.float32)\n",
        "d = torch.randn((),  dtype=torch.float32)\n",
        "e = torch.randn((),  dtype=torch.float32)\n",
        "s = torch.randn((),  dtype=torch.float32)"
      ]
    },
    {
      "cell_type": "markdown",
      "id": "a21272b7-2b88-408f-821e-a2e74b5c6369",
      "metadata": {
        "id": "a21272b7-2b88-408f-821e-a2e74b5c6369"
      },
      "source": [
        "## 3. Модель"
      ]
    },
    {
      "cell_type": "code",
      "execution_count": null,
      "id": "fe5896d0-4236-4c86-ab70-dfe2bb16a204",
      "metadata": {
        "id": "fe5896d0-4236-4c86-ab70-dfe2bb16a204"
      },
      "outputs": [],
      "source": [
        "class MyNet(torch.nn.Module):\n",
        "    def __init__(self, input_shape, n_hidden_neurons,  output_shape):\n",
        "        super(MyNet, self).__init__()\n",
        "        self.fc1 = torch.nn.Linear(input_shape, n_hidden_neurons)\n",
        "        self.act1 = torch.nn.Sigmoid()\n",
        "        self.fc2 = torch.nn.Linear(n_hidden_neurons, output_shape)\n",
        "\n",
        "    def forward(self, x):\n",
        "        x = self.fc1(x)\n",
        "        x = self.act1(x)\n",
        "        x = self.fc2(x)\n",
        "        return x\n",
        "\n"
      ]
    },
    {
      "cell_type": "code",
      "execution_count": null,
      "id": "a9913a27-ac84-44fe-9fe7-66c51b14d7d7",
      "metadata": {
        "id": "a9913a27-ac84-44fe-9fe7-66c51b14d7d7"
      },
      "outputs": [],
      "source": [
        "myNet = MyNet(2, 3, 1)"
      ]
    },
    {
      "cell_type": "code",
      "execution_count": null,
      "id": "70d8cd5e-9160-4fd3-84d5-8057f4c4a42c",
      "metadata": {
        "id": "70d8cd5e-9160-4fd3-84d5-8057f4c4a42c"
      },
      "outputs": [],
      "source": [
        "# Определем модель из torch.nn котора состоит из одного линейного слоя с 3 нейронами\n",
        "# каждый из трех нейронов моделирует собой один из коэффициентов полинома (а где же 4ый?)\n",
        "myNet = torch.nn.Sequential(\n",
        "    torch.nn.Linear(3, 1),      # линейный слой из одного нейрона и трех входов (весов)\n",
        "    torch.nn.Flatten(0, 1)      # представляем результат в виде вектора\n",
        ")\n"
      ]
    },
    {
      "cell_type": "code",
      "execution_count": null,
      "id": "e1a5ab46-ef3a-4ffd-b065-3a9a37974a94",
      "metadata": {
        "id": "e1a5ab46-ef3a-4ffd-b065-3a9a37974a94"
      },
      "outputs": [],
      "source": [
        "# Функция потерь MSE из torch.nn:\n",
        "loss_fn = torch.nn.MSELoss(reduction='sum')\n",
        "\n",
        "# Скорость обучения:\n",
        "learning_rate = 1e-3\n",
        "\n",
        "# Будем использовать оптимайзер RMSprop из torch.optim:\n",
        "optimizer = torch.optim.RMSprop(myNet.parameters(), lr=learning_rate)\n"
      ]
    },
    {
      "cell_type": "code",
      "execution_count": null,
      "id": "9d52f005-29ff-40d3-8c03-6f0bb1320303",
      "metadata": {
        "id": "9d52f005-29ff-40d3-8c03-6f0bb1320303",
        "outputId": "03a0ec17-169b-4006-e0ff-6e523adeb69a"
      },
      "outputs": [
        {
          "data": {
            "text/plain": [
              "torch.Size([3000, 2, 3])"
            ]
          },
          "execution_count": 172,
          "metadata": {},
          "output_type": "execute_result"
        }
      ],
      "source": [
        "xx.size()"
      ]
    },
    {
      "cell_type": "code",
      "execution_count": null,
      "id": "7af9ed3c-8a6e-41b8-8635-605d453adecc",
      "metadata": {
        "id": "7af9ed3c-8a6e-41b8-8635-605d453adecc",
        "outputId": "ca4822f6-6a7d-4d32-9d82-d2d5385b9396"
      },
      "outputs": [
        {
          "ename": "IndentationError",
          "evalue": "unindent does not match any outer indentation level (<string>, line 8)",
          "output_type": "error",
          "traceback": [
            "\u001b[1;36m  File \u001b[1;32m<string>:8\u001b[1;36m\u001b[0m\n\u001b[1;33m    loss = (y_pred - z_test).pow(2).sum().item()\u001b[0m\n\u001b[1;37m                                                ^\u001b[0m\n\u001b[1;31mIndentationError\u001b[0m\u001b[1;31m:\u001b[0m unindent does not match any outer indentation level\n"
          ]
        }
      ],
      "source": [
        "\n",
        "\n",
        "# Оптимизационный цикл (цикл обучения):\n",
        "for t in range(2000):\n",
        "\n",
        "    # Прямой проход: вычисляем предсказанный y\n",
        "     y_pred = a + b * x + c * x ** 2 + d * x ** 3 + e * x * y ** 2 + s * (x **2) * y\n",
        "\n",
        "    # Считаем ошибку (MSE) предскзанного y_pred и истинного y:\n",
        "    loss = (y_pred - z_test).pow(2).sum().item()\n",
        "    if t % 100 == 99:\n",
        "        print(f'iter={t}, loss={loss}')\n",
        "\n",
        "    # Обратный проход (вычисляем градиенты для a, b, c, d относительно loss):\n",
        "    grad_y_pred = 2.0 * (y_pred - z_test)\n",
        "    grad_a = grad_y_pred.sum()\n",
        "    grad_b = (grad_y_pred * xy_test).sum()\n",
        "    grad_c = (grad_y_pred * xy_test ** 2).sum()\n",
        "    grad_d = (grad_y_pred * xy_test ** 3).sum()\n",
        "    grad_e = (grad_y_pred * xy_test ** 2).sum()\n",
        "    grad_s = (grad_y_pred * xy_test ** 2).sum()\n",
        "\n",
        "    # Обновляем коэффициенты полинома (веса) с учетом расчитанного градиента:\n",
        "    a -= learning_rate * grad_a\n",
        "    b -= learning_rate * grad_b\n",
        "    c -= learning_rate * grad_c\n",
        "    d -= learning_rate * grad_d\n",
        "\n",
        "\n",
        "print(f'Result: y = {a.item()} + {b.item()} x + {c.item()} x^2 + {d.item()} x^3')"
      ]
    },
    {
      "cell_type": "code",
      "execution_count": null,
      "id": "b20781c6-8f85-4530-ad10-4bd854796209",
      "metadata": {
        "id": "b20781c6-8f85-4530-ad10-4bd854796209",
        "outputId": "9f0ec3a1-3e29-47c9-ad44-84da5e614e21"
      },
      "outputs": [
        {
          "name": "stdout",
          "output_type": "stream",
          "text": [
            "torch.Size([20000])\n"
          ]
        },
        {
          "ename": "RuntimeError",
          "evalue": "element 0 of tensors does not require grad and does not have a grad_fn",
          "output_type": "error",
          "traceback": [
            "\u001b[1;31m---------------------------------------------------------------------------\u001b[0m",
            "\u001b[1;31mRuntimeError\u001b[0m                              Traceback (most recent call last)",
            "Cell \u001b[1;32mIn[184], line 18\u001b[0m\n\u001b[0;32m     15\u001b[0m optimizer\u001b[38;5;241m.\u001b[39mzero_grad()\n\u001b[0;32m     17\u001b[0m \u001b[38;5;66;03m# Обратный проход (вычисляем градиенты для весов модели относительно loss):\u001b[39;00m\n\u001b[1;32m---> 18\u001b[0m loss\u001b[38;5;241m.\u001b[39mbackward()\n\u001b[0;32m     20\u001b[0m \u001b[38;5;66;03m# Обновляем веса оптимайзером:\u001b[39;00m\n\u001b[0;32m     21\u001b[0m optimizer\u001b[38;5;241m.\u001b[39mstep()\n",
            "File \u001b[1;32m~\\.conda\\envs\\pytorch-env\\Lib\\site-packages\\torch\\_tensor.py:521\u001b[0m, in \u001b[0;36mTensor.backward\u001b[1;34m(self, gradient, retain_graph, create_graph, inputs)\u001b[0m\n\u001b[0;32m    511\u001b[0m \u001b[38;5;28;01mif\u001b[39;00m has_torch_function_unary(\u001b[38;5;28mself\u001b[39m):\n\u001b[0;32m    512\u001b[0m     \u001b[38;5;28;01mreturn\u001b[39;00m handle_torch_function(\n\u001b[0;32m    513\u001b[0m         Tensor\u001b[38;5;241m.\u001b[39mbackward,\n\u001b[0;32m    514\u001b[0m         (\u001b[38;5;28mself\u001b[39m,),\n\u001b[1;32m   (...)\u001b[0m\n\u001b[0;32m    519\u001b[0m         inputs\u001b[38;5;241m=\u001b[39minputs,\n\u001b[0;32m    520\u001b[0m     )\n\u001b[1;32m--> 521\u001b[0m torch\u001b[38;5;241m.\u001b[39mautograd\u001b[38;5;241m.\u001b[39mbackward(\n\u001b[0;32m    522\u001b[0m     \u001b[38;5;28mself\u001b[39m, gradient, retain_graph, create_graph, inputs\u001b[38;5;241m=\u001b[39minputs\n\u001b[0;32m    523\u001b[0m )\n",
            "File \u001b[1;32m~\\.conda\\envs\\pytorch-env\\Lib\\site-packages\\torch\\autograd\\__init__.py:289\u001b[0m, in \u001b[0;36mbackward\u001b[1;34m(tensors, grad_tensors, retain_graph, create_graph, grad_variables, inputs)\u001b[0m\n\u001b[0;32m    284\u001b[0m     retain_graph \u001b[38;5;241m=\u001b[39m create_graph\n\u001b[0;32m    286\u001b[0m \u001b[38;5;66;03m# The reason we repeat the same comment below is that\u001b[39;00m\n\u001b[0;32m    287\u001b[0m \u001b[38;5;66;03m# some Python versions print out the first line of a multi-line function\u001b[39;00m\n\u001b[0;32m    288\u001b[0m \u001b[38;5;66;03m# calls in the traceback and some print out the last line\u001b[39;00m\n\u001b[1;32m--> 289\u001b[0m _engine_run_backward(\n\u001b[0;32m    290\u001b[0m     tensors,\n\u001b[0;32m    291\u001b[0m     grad_tensors_,\n\u001b[0;32m    292\u001b[0m     retain_graph,\n\u001b[0;32m    293\u001b[0m     create_graph,\n\u001b[0;32m    294\u001b[0m     inputs,\n\u001b[0;32m    295\u001b[0m     allow_unreachable\u001b[38;5;241m=\u001b[39m\u001b[38;5;28;01mTrue\u001b[39;00m,\n\u001b[0;32m    296\u001b[0m     accumulate_grad\u001b[38;5;241m=\u001b[39m\u001b[38;5;28;01mTrue\u001b[39;00m,\n\u001b[0;32m    297\u001b[0m )\n",
            "File \u001b[1;32m~\\.conda\\envs\\pytorch-env\\Lib\\site-packages\\torch\\autograd\\graph.py:769\u001b[0m, in \u001b[0;36m_engine_run_backward\u001b[1;34m(t_outputs, *args, **kwargs)\u001b[0m\n\u001b[0;32m    767\u001b[0m     unregister_hooks \u001b[38;5;241m=\u001b[39m _register_logging_hooks_on_whole_graph(t_outputs)\n\u001b[0;32m    768\u001b[0m \u001b[38;5;28;01mtry\u001b[39;00m:\n\u001b[1;32m--> 769\u001b[0m     \u001b[38;5;28;01mreturn\u001b[39;00m Variable\u001b[38;5;241m.\u001b[39m_execution_engine\u001b[38;5;241m.\u001b[39mrun_backward(  \u001b[38;5;66;03m# Calls into the C++ engine to run the backward pass\u001b[39;00m\n\u001b[0;32m    770\u001b[0m         t_outputs, \u001b[38;5;241m*\u001b[39margs, \u001b[38;5;241m*\u001b[39m\u001b[38;5;241m*\u001b[39mkwargs\n\u001b[0;32m    771\u001b[0m     )  \u001b[38;5;66;03m# Calls into the C++ engine to run the backward pass\u001b[39;00m\n\u001b[0;32m    772\u001b[0m \u001b[38;5;28;01mfinally\u001b[39;00m:\n\u001b[0;32m    773\u001b[0m     \u001b[38;5;28;01mif\u001b[39;00m attach_logging_hooks:\n",
            "\u001b[1;31mRuntimeError\u001b[0m: element 0 of tensors does not require grad and does not have a grad_fn"
          ]
        }
      ],
      "source": [
        "# Оптимизационный цикл (цикл обучения):\n",
        "for t in range(2000):\n",
        "\n",
        "    # Прямой проход: вычисляем предсказанный y пропуская вход xx через модель:\n",
        "    #y_pred = myNet(xx)\n",
        "    y_pred = a + b * x + c * x ** 2 + d * x ** 3 + e * x * y ** 2 + c * (x **2) * y\n",
        "    print(y_pred.size())\n",
        "\n",
        "    # Считаем ошибку (MSE) предскзанного y_pred и истинного y:\n",
        "    loss = loss_fn(y_pred, z_test)\n",
        "    if t % 100 == 99:\n",
        "        print(f'iter={t}, loss={loss.item()}')    # !!! loss.item()\n",
        "\n",
        "    # Перед обратным проходом нам нужно занулить градиент для всех весов которые обновляет optimizer\n",
        "    optimizer.zero_grad()\n",
        "\n",
        "    # Обратный проход (вычисляем градиенты для весов модели относительно loss):\n",
        "    loss.backward()\n",
        "\n",
        "    # Обновляем веса оптимайзером:\n",
        "    optimizer.step()\n",
        "\n",
        "\n",
        "# Мы можем обратиться к первому слою нашей модели как к первому элементу list:\n",
        "linear_layer = model[0]\n",
        "\n",
        "# Печатаем значения весов этого слоя (это и будут обученный коэффициенты искомого полинома):\n",
        "print(f'Result: y = {linear_layer.bias.item()} + {linear_layer.weight[:, 0].item()} x + {linear_layer.weight[:, 1].item()} x^2 + {linear_layer.weight[:, 2].item()} x^3')"
      ]
    },
    {
      "cell_type": "code",
      "execution_count": null,
      "id": "065c4532-3da1-42c6-8ac3-10d4c8a78323",
      "metadata": {
        "id": "065c4532-3da1-42c6-8ac3-10d4c8a78323",
        "outputId": "7770f8cf-dd19-4a0a-ec57-8a6c40a79fc8"
      },
      "outputs": [
        {
          "data": {
            "image/png": "[encoded data removed]",
            "text/plain": [
              "<Figure size 640x480 with 1 Axes>"
            ]
          },
          "metadata": {},
          "output_type": "display_data"
        }
      ],
      "source": [
        "def predict(net, x, y):\n",
        "    y_pred = net.forward(x)\n",
        "\n",
        "    plt.plot(x.numpy(), y.numpy(), 'o', label='Groud truth')\n",
        "    plt.plot(x.numpy(), y_pred.data.numpy(), 'o', c='r', label='Prediction');\n",
        "    plt.legend(loc='upper left')\n",
        "    plt.xlabel('$x$')\n",
        "    plt.ylabel('$y$')\n",
        "\n",
        "predict(myNet, xy_test, z_test)"
      ]
    },
    {
      "cell_type": "code",
      "execution_count": null,
      "id": "2c82cead-24e1-45e1-b082-7ab34452c148",
      "metadata": {
        "id": "2c82cead-24e1-45e1-b082-7ab34452c148"
      },
      "outputs": [],
      "source": [
        "optimizer = torch.optim.Adam(my_net.parameters(), lr=0.01)"
      ]
    },
    {
      "cell_type": "code",
      "execution_count": null,
      "id": "e6a31498-165f-425b-a820-c03c07115243",
      "metadata": {
        "id": "e6a31498-165f-425b-a820-c03c07115243"
      },
      "outputs": [],
      "source": [
        "def loss(pred, target):\n",
        "    squares = (pred - target) ** 2\n",
        "    return squares.mean()"
      ]
    },
    {
      "cell_type": "code",
      "execution_count": null,
      "id": "ab7b15f6-27e6-44b5-a3f4-3812770c7f34",
      "metadata": {
        "id": "ab7b15f6-27e6-44b5-a3f4-3812770c7f34",
        "outputId": "87182809-5bfa-45ac-cd5a-a799996496de"
      },
      "outputs": [
        {
          "data": {
            "image/png": "[encoded data removed]",
            "text/plain": [
              "<Figure size 640x480 with 1 Axes>"
            ]
          },
          "metadata": {},
          "output_type": "display_data"
        }
      ],
      "source": [
        "for epoch_index in range(2000):\n",
        "    optimizer.zero_grad()\n",
        "\n",
        "    z_pred = myNet.forward(xy_train)\n",
        "    loss_val = loss(z_pred, z_train)\n",
        "\n",
        "    loss_val.backward()\n",
        "\n",
        "    optimizer.step()\n",
        "\n",
        "predict(myNet, xy_val, z_val)"
      ]
    },
    {
      "cell_type": "code",
      "execution_count": null,
      "id": "8d1cbb61-2d33-4ff3-8209-e0d1793933d2",
      "metadata": {
        "id": "8d1cbb61-2d33-4ff3-8209-e0d1793933d2"
      },
      "outputs": [],
      "source": [
        "def dataset_to_loader(X_train, y_train, X_test, y_test, batch_size):\n",
        "\n",
        "    torch.manual_seed(42)\n",
        "    \"\"\"\n",
        "    Function will return two objects train, test DataLoaders\n",
        "    needs a batch_size\n",
        "    \"\"\"\n",
        "\n",
        "    train_dataset = TensorDataset(X_train, y_train)\n",
        "    test_dataset = TensorDataset(X_test, y_test)\n",
        "\n",
        "    train_loader = DataLoader(train_dataset,batch_size, shuffle=True)\n",
        "    test_loader = DataLoader(test_dataset, batch_size, shuffle=False)\n",
        "\n",
        "    return train_loader, test_loader"
      ]
    },
    {
      "cell_type": "code",
      "execution_count": null,
      "id": "bf88f62f-de03-4138-88b9-067c48a853c2",
      "metadata": {
        "id": "bf88f62f-de03-4138-88b9-067c48a853c2",
        "outputId": "8c6feeb7-ba74-41cc-9db3-cbfa8bb41322"
      },
      "outputs": [
        {
          "data": {
            "text/plain": [
              "MyNet(\n",
              "  (fc1): Linear(in_features=3, out_features=3, bias=True)\n",
              "  (act1): Sigmoid()\n",
              "  (fc2): Linear(in_features=3, out_features=1, bias=True)\n",
              ")"
            ]
          },
          "execution_count": 128,
          "metadata": {},
          "output_type": "execute_result"
        }
      ],
      "source": [
        "torch.manual_seed(42)\n",
        "\n",
        "deep_model_no_manipulation = MyNet(\n",
        "    input_shape=3,\n",
        "    n_hidden_neurons=3,\n",
        "    output_shape=1\n",
        ")\n",
        "deep_model_no_manipulation"
      ]
    },
    {
      "cell_type": "markdown",
      "id": "3284b6ac-aefe-4001-a86b-a3380e219670",
      "metadata": {
        "id": "3284b6ac-aefe-4001-a86b-a3380e219670"
      },
      "source": [
        "## 4. Оптимизатор"
      ]
    },
    {
      "cell_type": "code",
      "execution_count": null,
      "id": "853e716e-6977-46ad-93be-380e702d0ada",
      "metadata": {
        "id": "853e716e-6977-46ad-93be-380e702d0ada"
      },
      "outputs": [],
      "source": [
        "optimizer = torch.optim.Adam(my_net.parameters(), lr=0.01)"
      ]
    },
    {
      "cell_type": "markdown",
      "id": "cdacc1f2-01c4-4be4-8569-d9d066c42035",
      "metadata": {
        "id": "cdacc1f2-01c4-4be4-8569-d9d066c42035"
      },
      "source": [
        "## 5. Loss функция"
      ]
    },
    {
      "cell_type": "code",
      "execution_count": null,
      "id": "866d4f5c-10c4-4531-b4e3-3cecd4b44fc2",
      "metadata": {
        "id": "866d4f5c-10c4-4531-b4e3-3cecd4b44fc2"
      },
      "outputs": [],
      "source": [
        "loss_function = nn.BCEWithLogitsLoss()\n",
        "optimizer = optim.Adam(params=deep_model_no_manipulation.parameters(), lr=0.01)"
      ]
    },
    {
      "cell_type": "code",
      "execution_count": null,
      "id": "6d9a4d36-f58c-4e56-adc5-251d3b438a2d",
      "metadata": {
        "id": "6d9a4d36-f58c-4e56-adc5-251d3b438a2d"
      },
      "outputs": [],
      "source": [
        "#def loss(pred, target):\n",
        "#    squares = (pred - target) ** 2\n",
        "#    return squares.sum()"
      ]
    },
    {
      "cell_type": "code",
      "execution_count": null,
      "id": "a09d9d18-d13e-4df5-99e3-fc8778a37100",
      "metadata": {
        "id": "a09d9d18-d13e-4df5-99e3-fc8778a37100"
      },
      "outputs": [],
      "source": [
        "#tmp = torch.Tensor([1,2,3])"
      ]
    },
    {
      "cell_type": "markdown",
      "id": "036d643c-fa53-45e9-806e-174ce130a756",
      "metadata": {
        "id": "036d643c-fa53-45e9-806e-174ce130a756"
      },
      "source": [
        "## 6. Предсказание"
      ]
    },
    {
      "cell_type": "code",
      "execution_count": null,
      "id": "fbda1a3e-e4d8-4b46-b9ce-283a0e4bda41",
      "metadata": {
        "id": "fbda1a3e-e4d8-4b46-b9ce-283a0e4bda41"
      },
      "outputs": [],
      "source": [
        "def train_model(model,X_train, y_train, X_test, y_test, epochs, batch_size):\n",
        "\n",
        "    ##model.to(device)\n",
        "\n",
        "    train_dataloader , test_dataloader = dataset_to_loader(X_train, y_train, X_test, y_test, batch_size)\n",
        "\n",
        "    results = []\n",
        "\n",
        "    for epoch in range(epochs):\n",
        "\n",
        "        accuracy.reset()\n",
        "        f1_score.reset()\n",
        "        precision.reset()\n",
        "        recall.reset()\n",
        "        train_loss = 0\n",
        "\n",
        "        preds_per_epoch_accumulated = [] # Probabilities\n",
        "        labels_per_epoch_accumulated = []\n",
        "\n",
        "        model.train()\n",
        "\n",
        "        for X_train, y_train in train_dataloader:\n",
        "\n",
        "            #X_train, y_train = X_train.to(device), y_train.to(device)\n",
        "            X_train, y_train = X_train, y_train\n",
        "            y_train = y_train.unsqueeze(1) #ValueError: Target size (torch.Size([32])) must be the same as input size (torch.Size([32, 1])) to fix that\n",
        "\n",
        "            predictions = model(X_train)\n",
        "\n",
        "            loss = loss_function(predictions, y_train) # No sigmoid her BCEWithLogitsLoss takes care of taht\n",
        "\n",
        "            optimizer.zero_grad()\n",
        "\n",
        "            loss.backward()\n",
        "\n",
        "            optimizer.step()\n",
        "\n",
        "            # Calcualte AUC PR\n",
        "            preds_sigmoid = torch.sigmoid(predictions).detach().cpu().numpy() # Probabilities\n",
        "            labels = y_train.detach().cpu().numpy() # labels from GPU/tensor to nupy so i can use my_auc_pr function\n",
        "\n",
        "            preds_per_epoch_accumulated.extend(preds_sigmoid)\n",
        "            labels_per_epoch_accumulated.extend(labels)\n",
        "\n",
        "            predicted_class = (preds_sigmoid >= 0.5).astype(int)\n",
        "\n",
        "            # Metrics update\n",
        "            train_loss += loss.item()\n",
        "            accuracy.update(torch.tensor(predicted_class), y_train)\n",
        "            f1_score.update(torch.tensor(predicted_class), y_train)\n",
        "            precision.update(torch.tensor(predicted_class), y_train)\n",
        "            recall.update(torch.tensor(predicted_class), y_train)\n",
        "\n",
        "        accuracy_ = accuracy.compute().item()\n",
        "        f1_score_ = f1_score.compute().item()\n",
        "        precision_ = precision.compute().item()\n",
        "        recall_ = recall.compute().item()\n",
        "\n",
        "        # Calcualte AUC PR\n",
        "\n",
        "        auc_pr_ = my_auc_pr(labels_per_epoch_accumulated,preds_per_epoch_accumulated) # calculate auc_pr after each epoch\n",
        "\n",
        "        epoch_results = {\n",
        "            \"epoch\" : epoch + 1,\n",
        "            \"loss\" : train_loss/len(train_dataloader),\n",
        "            \"accuracy\" : accuracy_,\n",
        "            \"f1_score\" : f1_score_,\n",
        "            \"precision\" : precision_,\n",
        "            \"recall\" : recall_,\n",
        "            \"auc pr\" : auc_pr_\n",
        "        }\n",
        "\n",
        "        if epoch % 10 == 0 or epoch == epochs - 1:\n",
        "            print(f\"Epoch: {epoch + 1}, Loss: {epoch_results['loss']:.5f}, \"\n",
        "                  f\"Accuracy: {accuracy_:.4f}, F1: {f1_score_:.4f}, \"\n",
        "                  f\"Precision: {precision_:.4f}, Recall: {recall_:.4f}, AUC-PR: {auc_pr_:.4f}\")\n",
        "\n",
        "        results.append(epoch_results)\n",
        "\n",
        "    return results"
      ]
    },
    {
      "cell_type": "code",
      "execution_count": null,
      "id": "5b29e544-3e69-4b8c-bd79-5d95a4f0bd6a",
      "metadata": {
        "id": "5b29e544-3e69-4b8c-bd79-5d95a4f0bd6a",
        "outputId": "c41a15ff-159a-48f7-ff02-02dce31cf380"
      },
      "outputs": [
        {
          "ename": "RuntimeError",
          "evalue": "mat1 and mat2 shapes cannot be multiplied (1x2 and 3x3)",
          "output_type": "error",
          "traceback": [
            "\u001b[1;31m---------------------------------------------------------------------------\u001b[0m",
            "\u001b[1;31mRuntimeError\u001b[0m                              Traceback (most recent call last)",
            "Cell \u001b[1;32mIn[131], line 3\u001b[0m\n\u001b[0;32m      1\u001b[0m \u001b[38;5;66;03m# For time sake  I will only test to 50 epochs, in the future i may decide to add earliy stopping to prevent model from overfitting\u001b[39;00m\n\u001b[1;32m----> 3\u001b[0m deep_model_no_manipulation_results \u001b[38;5;241m=\u001b[39m train_model(deep_model_no_manipulation, xy_train, z_train, xy_test,z_test,\u001b[38;5;241m1000\u001b[39m,\u001b[38;5;241m1\u001b[39m)\n",
            "Cell \u001b[1;32mIn[118], line 28\u001b[0m, in \u001b[0;36mtrain_model\u001b[1;34m(model, X_train, y_train, X_test, y_test, epochs, batch_size)\u001b[0m\n\u001b[0;32m     25\u001b[0m X_train, y_train \u001b[38;5;241m=\u001b[39m X_train, y_train\n\u001b[0;32m     26\u001b[0m y_train \u001b[38;5;241m=\u001b[39m y_train\u001b[38;5;241m.\u001b[39munsqueeze(\u001b[38;5;241m1\u001b[39m) \u001b[38;5;66;03m#ValueError: Target size (torch.Size([32])) must be the same as input size (torch.Size([32, 1])) to fix that\u001b[39;00m\n\u001b[1;32m---> 28\u001b[0m predictions \u001b[38;5;241m=\u001b[39m model(X_train)\n\u001b[0;32m     30\u001b[0m loss \u001b[38;5;241m=\u001b[39m loss_function(predictions, y_train) \u001b[38;5;66;03m# No sigmoid her BCEWithLogitsLoss takes care of taht\u001b[39;00m\n\u001b[0;32m     32\u001b[0m optimizer\u001b[38;5;241m.\u001b[39mzero_grad()\n",
            "File \u001b[1;32m~\\.conda\\envs\\pytorch-env\\Lib\\site-packages\\torch\\nn\\modules\\module.py:1553\u001b[0m, in \u001b[0;36mModule._wrapped_call_impl\u001b[1;34m(self, *args, **kwargs)\u001b[0m\n\u001b[0;32m   1551\u001b[0m     \u001b[38;5;28;01mreturn\u001b[39;00m \u001b[38;5;28mself\u001b[39m\u001b[38;5;241m.\u001b[39m_compiled_call_impl(\u001b[38;5;241m*\u001b[39margs, \u001b[38;5;241m*\u001b[39m\u001b[38;5;241m*\u001b[39mkwargs)  \u001b[38;5;66;03m# type: ignore[misc]\u001b[39;00m\n\u001b[0;32m   1552\u001b[0m \u001b[38;5;28;01melse\u001b[39;00m:\n\u001b[1;32m-> 1553\u001b[0m     \u001b[38;5;28;01mreturn\u001b[39;00m \u001b[38;5;28mself\u001b[39m\u001b[38;5;241m.\u001b[39m_call_impl(\u001b[38;5;241m*\u001b[39margs, \u001b[38;5;241m*\u001b[39m\u001b[38;5;241m*\u001b[39mkwargs)\n",
            "File \u001b[1;32m~\\.conda\\envs\\pytorch-env\\Lib\\site-packages\\torch\\nn\\modules\\module.py:1562\u001b[0m, in \u001b[0;36mModule._call_impl\u001b[1;34m(self, *args, **kwargs)\u001b[0m\n\u001b[0;32m   1557\u001b[0m \u001b[38;5;66;03m# If we don't have any hooks, we want to skip the rest of the logic in\u001b[39;00m\n\u001b[0;32m   1558\u001b[0m \u001b[38;5;66;03m# this function, and just call forward.\u001b[39;00m\n\u001b[0;32m   1559\u001b[0m \u001b[38;5;28;01mif\u001b[39;00m \u001b[38;5;129;01mnot\u001b[39;00m (\u001b[38;5;28mself\u001b[39m\u001b[38;5;241m.\u001b[39m_backward_hooks \u001b[38;5;129;01mor\u001b[39;00m \u001b[38;5;28mself\u001b[39m\u001b[38;5;241m.\u001b[39m_backward_pre_hooks \u001b[38;5;129;01mor\u001b[39;00m \u001b[38;5;28mself\u001b[39m\u001b[38;5;241m.\u001b[39m_forward_hooks \u001b[38;5;129;01mor\u001b[39;00m \u001b[38;5;28mself\u001b[39m\u001b[38;5;241m.\u001b[39m_forward_pre_hooks\n\u001b[0;32m   1560\u001b[0m         \u001b[38;5;129;01mor\u001b[39;00m _global_backward_pre_hooks \u001b[38;5;129;01mor\u001b[39;00m _global_backward_hooks\n\u001b[0;32m   1561\u001b[0m         \u001b[38;5;129;01mor\u001b[39;00m _global_forward_hooks \u001b[38;5;129;01mor\u001b[39;00m _global_forward_pre_hooks):\n\u001b[1;32m-> 1562\u001b[0m     \u001b[38;5;28;01mreturn\u001b[39;00m forward_call(\u001b[38;5;241m*\u001b[39margs, \u001b[38;5;241m*\u001b[39m\u001b[38;5;241m*\u001b[39mkwargs)\n\u001b[0;32m   1564\u001b[0m \u001b[38;5;28;01mtry\u001b[39;00m:\n\u001b[0;32m   1565\u001b[0m     result \u001b[38;5;241m=\u001b[39m \u001b[38;5;28;01mNone\u001b[39;00m\n",
            "Cell \u001b[1;32mIn[101], line 9\u001b[0m, in \u001b[0;36mMyNet.forward\u001b[1;34m(self, x)\u001b[0m\n\u001b[0;32m      8\u001b[0m \u001b[38;5;28;01mdef\u001b[39;00m \u001b[38;5;21mforward\u001b[39m(\u001b[38;5;28mself\u001b[39m, x):\n\u001b[1;32m----> 9\u001b[0m     x \u001b[38;5;241m=\u001b[39m \u001b[38;5;28mself\u001b[39m\u001b[38;5;241m.\u001b[39mfc1(x)\n\u001b[0;32m     10\u001b[0m     x \u001b[38;5;241m=\u001b[39m \u001b[38;5;28mself\u001b[39m\u001b[38;5;241m.\u001b[39mact1(x)\n\u001b[0;32m     11\u001b[0m     x \u001b[38;5;241m=\u001b[39m \u001b[38;5;28mself\u001b[39m\u001b[38;5;241m.\u001b[39mfc2(x)\n",
            "File \u001b[1;32m~\\.conda\\envs\\pytorch-env\\Lib\\site-packages\\torch\\nn\\modules\\module.py:1553\u001b[0m, in \u001b[0;36mModule._wrapped_call_impl\u001b[1;34m(self, *args, **kwargs)\u001b[0m\n\u001b[0;32m   1551\u001b[0m     \u001b[38;5;28;01mreturn\u001b[39;00m \u001b[38;5;28mself\u001b[39m\u001b[38;5;241m.\u001b[39m_compiled_call_impl(\u001b[38;5;241m*\u001b[39margs, \u001b[38;5;241m*\u001b[39m\u001b[38;5;241m*\u001b[39mkwargs)  \u001b[38;5;66;03m# type: ignore[misc]\u001b[39;00m\n\u001b[0;32m   1552\u001b[0m \u001b[38;5;28;01melse\u001b[39;00m:\n\u001b[1;32m-> 1553\u001b[0m     \u001b[38;5;28;01mreturn\u001b[39;00m \u001b[38;5;28mself\u001b[39m\u001b[38;5;241m.\u001b[39m_call_impl(\u001b[38;5;241m*\u001b[39margs, \u001b[38;5;241m*\u001b[39m\u001b[38;5;241m*\u001b[39mkwargs)\n",
            "File \u001b[1;32m~\\.conda\\envs\\pytorch-env\\Lib\\site-packages\\torch\\nn\\modules\\module.py:1562\u001b[0m, in \u001b[0;36mModule._call_impl\u001b[1;34m(self, *args, **kwargs)\u001b[0m\n\u001b[0;32m   1557\u001b[0m \u001b[38;5;66;03m# If we don't have any hooks, we want to skip the rest of the logic in\u001b[39;00m\n\u001b[0;32m   1558\u001b[0m \u001b[38;5;66;03m# this function, and just call forward.\u001b[39;00m\n\u001b[0;32m   1559\u001b[0m \u001b[38;5;28;01mif\u001b[39;00m \u001b[38;5;129;01mnot\u001b[39;00m (\u001b[38;5;28mself\u001b[39m\u001b[38;5;241m.\u001b[39m_backward_hooks \u001b[38;5;129;01mor\u001b[39;00m \u001b[38;5;28mself\u001b[39m\u001b[38;5;241m.\u001b[39m_backward_pre_hooks \u001b[38;5;129;01mor\u001b[39;00m \u001b[38;5;28mself\u001b[39m\u001b[38;5;241m.\u001b[39m_forward_hooks \u001b[38;5;129;01mor\u001b[39;00m \u001b[38;5;28mself\u001b[39m\u001b[38;5;241m.\u001b[39m_forward_pre_hooks\n\u001b[0;32m   1560\u001b[0m         \u001b[38;5;129;01mor\u001b[39;00m _global_backward_pre_hooks \u001b[38;5;129;01mor\u001b[39;00m _global_backward_hooks\n\u001b[0;32m   1561\u001b[0m         \u001b[38;5;129;01mor\u001b[39;00m _global_forward_hooks \u001b[38;5;129;01mor\u001b[39;00m _global_forward_pre_hooks):\n\u001b[1;32m-> 1562\u001b[0m     \u001b[38;5;28;01mreturn\u001b[39;00m forward_call(\u001b[38;5;241m*\u001b[39margs, \u001b[38;5;241m*\u001b[39m\u001b[38;5;241m*\u001b[39mkwargs)\n\u001b[0;32m   1564\u001b[0m \u001b[38;5;28;01mtry\u001b[39;00m:\n\u001b[0;32m   1565\u001b[0m     result \u001b[38;5;241m=\u001b[39m \u001b[38;5;28;01mNone\u001b[39;00m\n",
            "File \u001b[1;32m~\\.conda\\envs\\pytorch-env\\Lib\\site-packages\\torch\\nn\\modules\\linear.py:117\u001b[0m, in \u001b[0;36mLinear.forward\u001b[1;34m(self, input)\u001b[0m\n\u001b[0;32m    116\u001b[0m \u001b[38;5;28;01mdef\u001b[39;00m \u001b[38;5;21mforward\u001b[39m(\u001b[38;5;28mself\u001b[39m, \u001b[38;5;28minput\u001b[39m: Tensor) \u001b[38;5;241m-\u001b[39m\u001b[38;5;241m>\u001b[39m Tensor:\n\u001b[1;32m--> 117\u001b[0m     \u001b[38;5;28;01mreturn\u001b[39;00m F\u001b[38;5;241m.\u001b[39mlinear(\u001b[38;5;28minput\u001b[39m, \u001b[38;5;28mself\u001b[39m\u001b[38;5;241m.\u001b[39mweight, \u001b[38;5;28mself\u001b[39m\u001b[38;5;241m.\u001b[39mbias)\n",
            "\u001b[1;31mRuntimeError\u001b[0m: mat1 and mat2 shapes cannot be multiplied (1x2 and 3x3)"
          ]
        }
      ],
      "source": [
        "# For time sake  I will only test to 50 epochs, in the future i may decide to add earliy stopping to prevent model from overfitting\n",
        "\n",
        "deep_model_no_manipulation_results = train_model(deep_model_no_manipulation, xy_train, z_train, xy_test,z_test,1000,1)"
      ]
    },
    {
      "cell_type": "code",
      "execution_count": null,
      "id": "3c495649-017f-4f07-a193-78ebc0f0f76c",
      "metadata": {
        "id": "3c495649-017f-4f07-a193-78ebc0f0f76c",
        "outputId": "2f0c6ca7-134f-4d28-baab-d2f4ae4af003"
      },
      "outputs": [
        {
          "ename": "RuntimeError",
          "evalue": "mat1 and mat2 must have the same dtype, but got Double and Float",
          "output_type": "error",
          "traceback": [
            "\u001b[1;31m---------------------------------------------------------------------------\u001b[0m",
            "\u001b[1;31mRuntimeError\u001b[0m                              Traceback (most recent call last)",
            "Cell \u001b[1;32mIn[95], line 10\u001b[0m\n\u001b[0;32m      7\u001b[0m     plt\u001b[38;5;241m.\u001b[39mxlabel(\u001b[38;5;124m'\u001b[39m\u001b[38;5;124m$x$\u001b[39m\u001b[38;5;124m'\u001b[39m)\n\u001b[0;32m      8\u001b[0m     plt\u001b[38;5;241m.\u001b[39mylabel(\u001b[38;5;124m'\u001b[39m\u001b[38;5;124m$y$\u001b[39m\u001b[38;5;124m'\u001b[39m)\n\u001b[1;32m---> 10\u001b[0m predict(my_net, xy_train, z_train)\n",
            "Cell \u001b[1;32mIn[95], line 2\u001b[0m, in \u001b[0;36mpredict\u001b[1;34m(net, x, y)\u001b[0m\n\u001b[0;32m      1\u001b[0m \u001b[38;5;28;01mdef\u001b[39;00m \u001b[38;5;21mpredict\u001b[39m(net, x, y):\n\u001b[1;32m----> 2\u001b[0m     y_pred \u001b[38;5;241m=\u001b[39m net\u001b[38;5;241m.\u001b[39mforward(x)\n\u001b[0;32m      4\u001b[0m     plt\u001b[38;5;241m.\u001b[39mplot(x\u001b[38;5;241m.\u001b[39mnumpy(), y\u001b[38;5;241m.\u001b[39mnumpy(), \u001b[38;5;124m'\u001b[39m\u001b[38;5;124mo\u001b[39m\u001b[38;5;124m'\u001b[39m, label\u001b[38;5;241m=\u001b[39m\u001b[38;5;124m'\u001b[39m\u001b[38;5;124mGroud truth\u001b[39m\u001b[38;5;124m'\u001b[39m)\n\u001b[0;32m      5\u001b[0m     plt\u001b[38;5;241m.\u001b[39mplot(x\u001b[38;5;241m.\u001b[39mnumpy(), y_pred\u001b[38;5;241m.\u001b[39mdata\u001b[38;5;241m.\u001b[39mnumpy(), \u001b[38;5;124m'\u001b[39m\u001b[38;5;124mo\u001b[39m\u001b[38;5;124m'\u001b[39m, c\u001b[38;5;241m=\u001b[39m\u001b[38;5;124m'\u001b[39m\u001b[38;5;124mr\u001b[39m\u001b[38;5;124m'\u001b[39m, label\u001b[38;5;241m=\u001b[39m\u001b[38;5;124m'\u001b[39m\u001b[38;5;124mPrediction\u001b[39m\u001b[38;5;124m'\u001b[39m);\n",
            "Cell \u001b[1;32mIn[92], line 9\u001b[0m, in \u001b[0;36mMyNet.forward\u001b[1;34m(self, x)\u001b[0m\n\u001b[0;32m      8\u001b[0m \u001b[38;5;28;01mdef\u001b[39;00m \u001b[38;5;21mforward\u001b[39m(\u001b[38;5;28mself\u001b[39m, x):\n\u001b[1;32m----> 9\u001b[0m     x \u001b[38;5;241m=\u001b[39m \u001b[38;5;28mself\u001b[39m\u001b[38;5;241m.\u001b[39mfc1(x)\n\u001b[0;32m     10\u001b[0m     x \u001b[38;5;241m=\u001b[39m \u001b[38;5;28mself\u001b[39m\u001b[38;5;241m.\u001b[39mact1(x)\n\u001b[0;32m     11\u001b[0m     x \u001b[38;5;241m=\u001b[39m \u001b[38;5;28mself\u001b[39m\u001b[38;5;241m.\u001b[39mfc2(x)\n",
            "File \u001b[1;32m~\\.conda\\envs\\pytorch-env\\Lib\\site-packages\\torch\\nn\\modules\\module.py:1553\u001b[0m, in \u001b[0;36mModule._wrapped_call_impl\u001b[1;34m(self, *args, **kwargs)\u001b[0m\n\u001b[0;32m   1551\u001b[0m     \u001b[38;5;28;01mreturn\u001b[39;00m \u001b[38;5;28mself\u001b[39m\u001b[38;5;241m.\u001b[39m_compiled_call_impl(\u001b[38;5;241m*\u001b[39margs, \u001b[38;5;241m*\u001b[39m\u001b[38;5;241m*\u001b[39mkwargs)  \u001b[38;5;66;03m# type: ignore[misc]\u001b[39;00m\n\u001b[0;32m   1552\u001b[0m \u001b[38;5;28;01melse\u001b[39;00m:\n\u001b[1;32m-> 1553\u001b[0m     \u001b[38;5;28;01mreturn\u001b[39;00m \u001b[38;5;28mself\u001b[39m\u001b[38;5;241m.\u001b[39m_call_impl(\u001b[38;5;241m*\u001b[39margs, \u001b[38;5;241m*\u001b[39m\u001b[38;5;241m*\u001b[39mkwargs)\n",
            "File \u001b[1;32m~\\.conda\\envs\\pytorch-env\\Lib\\site-packages\\torch\\nn\\modules\\module.py:1562\u001b[0m, in \u001b[0;36mModule._call_impl\u001b[1;34m(self, *args, **kwargs)\u001b[0m\n\u001b[0;32m   1557\u001b[0m \u001b[38;5;66;03m# If we don't have any hooks, we want to skip the rest of the logic in\u001b[39;00m\n\u001b[0;32m   1558\u001b[0m \u001b[38;5;66;03m# this function, and just call forward.\u001b[39;00m\n\u001b[0;32m   1559\u001b[0m \u001b[38;5;28;01mif\u001b[39;00m \u001b[38;5;129;01mnot\u001b[39;00m (\u001b[38;5;28mself\u001b[39m\u001b[38;5;241m.\u001b[39m_backward_hooks \u001b[38;5;129;01mor\u001b[39;00m \u001b[38;5;28mself\u001b[39m\u001b[38;5;241m.\u001b[39m_backward_pre_hooks \u001b[38;5;129;01mor\u001b[39;00m \u001b[38;5;28mself\u001b[39m\u001b[38;5;241m.\u001b[39m_forward_hooks \u001b[38;5;129;01mor\u001b[39;00m \u001b[38;5;28mself\u001b[39m\u001b[38;5;241m.\u001b[39m_forward_pre_hooks\n\u001b[0;32m   1560\u001b[0m         \u001b[38;5;129;01mor\u001b[39;00m _global_backward_pre_hooks \u001b[38;5;129;01mor\u001b[39;00m _global_backward_hooks\n\u001b[0;32m   1561\u001b[0m         \u001b[38;5;129;01mor\u001b[39;00m _global_forward_hooks \u001b[38;5;129;01mor\u001b[39;00m _global_forward_pre_hooks):\n\u001b[1;32m-> 1562\u001b[0m     \u001b[38;5;28;01mreturn\u001b[39;00m forward_call(\u001b[38;5;241m*\u001b[39margs, \u001b[38;5;241m*\u001b[39m\u001b[38;5;241m*\u001b[39mkwargs)\n\u001b[0;32m   1564\u001b[0m \u001b[38;5;28;01mtry\u001b[39;00m:\n\u001b[0;32m   1565\u001b[0m     result \u001b[38;5;241m=\u001b[39m \u001b[38;5;28;01mNone\u001b[39;00m\n",
            "File \u001b[1;32m~\\.conda\\envs\\pytorch-env\\Lib\\site-packages\\torch\\nn\\modules\\linear.py:117\u001b[0m, in \u001b[0;36mLinear.forward\u001b[1;34m(self, input)\u001b[0m\n\u001b[0;32m    116\u001b[0m \u001b[38;5;28;01mdef\u001b[39;00m \u001b[38;5;21mforward\u001b[39m(\u001b[38;5;28mself\u001b[39m, \u001b[38;5;28minput\u001b[39m: Tensor) \u001b[38;5;241m-\u001b[39m\u001b[38;5;241m>\u001b[39m Tensor:\n\u001b[1;32m--> 117\u001b[0m     \u001b[38;5;28;01mreturn\u001b[39;00m F\u001b[38;5;241m.\u001b[39mlinear(\u001b[38;5;28minput\u001b[39m, \u001b[38;5;28mself\u001b[39m\u001b[38;5;241m.\u001b[39mweight, \u001b[38;5;28mself\u001b[39m\u001b[38;5;241m.\u001b[39mbias)\n",
            "\u001b[1;31mRuntimeError\u001b[0m: mat1 and mat2 must have the same dtype, but got Double and Float"
          ]
        }
      ],
      "source": [
        "def predict(net, x, y):\n",
        "    y_pred = net.forward(x)\n",
        "\n",
        "    plt.plot(x.numpy(), y.numpy(), 'o', label='Groud truth')\n",
        "    plt.plot(x.numpy(), y_pred.data.numpy(), 'o', c='r', label='Prediction');\n",
        "    plt.legend(loc='upper left')\n",
        "    plt.xlabel('$x$')\n",
        "    plt.ylabel('$y$')\n",
        "\n",
        "predict(my_net, xy_train, z_train)"
      ]
    },
    {
      "cell_type": "code",
      "execution_count": null,
      "id": "38a1f2a6-db70-463b-8934-5c83c328c767",
      "metadata": {
        "id": "38a1f2a6-db70-463b-8934-5c83c328c767"
      },
      "outputs": [],
      "source": [
        "from torch.utils.data import TensorDataset"
      ]
    },
    {
      "cell_type": "code",
      "execution_count": null,
      "id": "813f7f3b-24f1-48b5-8306-1f032cbfea1f",
      "metadata": {
        "id": "813f7f3b-24f1-48b5-8306-1f032cbfea1f"
      },
      "outputs": [],
      "source": []
    }
  ],
  "metadata": {
    "kernelspec": {
      "display_name": "Python 3 (ipykernel)",
      "language": "python",
      "name": "python3"
    },
    "language_info": {
      "codemirror_mode": {
        "name": "ipython",
        "version": 3
      },
      "file_extension": ".py",
      "mimetype": "text/x-python",
      "name": "python",
      "nbconvert_exporter": "python",
      "pygments_lexer": "ipython3",
      "version": "3.12.5"
    },
    "colab": {
      "provenance": []
    },
    "widgets": {
      "application/vnd.jupyter.widget-state+json": {
        "2187192e56124a799debb0d682746b04": {
          "model_module": "@jupyter-widgets/controls",
          "model_name": "HBoxModel",
          "model_module_version": "1.5.0",
          "state": {
            "_dom_classes": [],
            "_model_module": "@jupyter-widgets/controls",
            "_model_module_version": "1.5.0",
            "_model_name": "HBoxModel",
            "_view_count": null,
            "_view_module": "@jupyter-widgets/controls",
            "_view_module_version": "1.5.0",
            "_view_name": "HBoxView",
            "box_style": "",
            "children": [
              "IPY_MODEL_56198151ee7a41f790592c4807e4a418",
              "IPY_MODEL_b1fcbadd79ec4bb3a0d4d26c16d5128f",
              "IPY_MODEL_c4e2c65f125649bd847c8f6fa29d99b8"
            ],
            "layout": "IPY_MODEL_ed0b385a5ffa4bdfa58a0c803ca11bd2"
          }
        },
        "56198151ee7a41f790592c4807e4a418": {
          "model_module": "@jupyter-widgets/controls",
          "model_name": "HTMLModel",
          "model_module_version": "1.5.0",
          "state": {
            "_dom_classes": [],
            "_model_module": "@jupyter-widgets/controls",
            "_model_module_version": "1.5.0",
            "_model_name": "HTMLModel",
            "_view_count": null,
            "_view_module": "@jupyter-widgets/controls",
            "_view_module_version": "1.5.0",
            "_view_name": "HTMLView",
            "description": "",
            "description_tooltip": null,
            "layout": "IPY_MODEL_2ad7d44da94d464e991a1773b2684580",
            "placeholder": "​",
            "style": "IPY_MODEL_4fc8ba3865814ae8a36d219ca6a6ba22",
            "value": "100%"
          }
        },
        "b1fcbadd79ec4bb3a0d4d26c16d5128f": {
          "model_module": "@jupyter-widgets/controls",
          "model_name": "FloatProgressModel",
          "model_module_version": "1.5.0",
          "state": {
            "_dom_classes": [],
            "_model_module": "@jupyter-widgets/controls",
            "_model_module_version": "1.5.0",
            "_model_name": "FloatProgressModel",
            "_view_count": null,
            "_view_module": "@jupyter-widgets/controls",
            "_view_module_version": "1.5.0",
            "_view_name": "ProgressView",
            "bar_style": "success",
            "description": "",
            "description_tooltip": null,
            "layout": "IPY_MODEL_c3986ac898bd40419e93ca31fb3feea2",
            "max": 200,
            "min": 0,
            "orientation": "horizontal",
            "style": "IPY_MODEL_2ef16516c3464603b99d3be6389a4af9",
            "value": 200
          }
        },
        "c4e2c65f125649bd847c8f6fa29d99b8": {
          "model_module": "@jupyter-widgets/controls",
          "model_name": "HTMLModel",
          "model_module_version": "1.5.0",
          "state": {
            "_dom_classes": [],
            "_model_module": "@jupyter-widgets/controls",
            "_model_module_version": "1.5.0",
            "_model_name": "HTMLModel",
            "_view_count": null,
            "_view_module": "@jupyter-widgets/controls",
            "_view_module_version": "1.5.0",
            "_view_name": "HTMLView",
            "description": "",
            "description_tooltip": null,
            "layout": "IPY_MODEL_eb354585ba834c47970a7cfbfde13a88",
            "placeholder": "​",
            "style": "IPY_MODEL_b78a50b37dba45e69cb1d26472dc1edc",
            "value": " 200/200 [01:03&lt;00:00,  3.32it/s]"
          }
        },
        "ed0b385a5ffa4bdfa58a0c803ca11bd2": {
          "model_module": "@jupyter-widgets/base",
          "model_name": "LayoutModel",
          "model_module_version": "1.2.0",
          "state": {
            "_model_module": "@jupyter-widgets/base",
            "_model_module_version": "1.2.0",
            "_model_name": "LayoutModel",
            "_view_count": null,
            "_view_module": "@jupyter-widgets/base",
            "_view_module_version": "1.2.0",
            "_view_name": "LayoutView",
            "align_content": null,
            "align_items": null,
            "align_self": null,
            "border": null,
            "bottom": null,
            "display": null,
            "flex": null,
            "flex_flow": null,
            "grid_area": null,
            "grid_auto_columns": null,
            "grid_auto_flow": null,
            "grid_auto_rows": null,
            "grid_column": null,
            "grid_gap": null,
            "grid_row": null,
            "grid_template_areas": null,
            "grid_template_columns": null,
            "grid_template_rows": null,
            "height": null,
            "justify_content": null,
            "justify_items": null,
            "left": null,
            "margin": null,
            "max_height": null,
            "max_width": null,
            "min_height": null,
            "min_width": null,
            "object_fit": null,
            "object_position": null,
            "order": null,
            "overflow": null,
            "overflow_x": null,
            "overflow_y": null,
            "padding": null,
            "right": null,
            "top": null,
            "visibility": null,
            "width": null
          }
        },
        "2ad7d44da94d464e991a1773b2684580": {
          "model_module": "@jupyter-widgets/base",
          "model_name": "LayoutModel",
          "model_module_version": "1.2.0",
          "state": {
            "_model_module": "@jupyter-widgets/base",
            "_model_module_version": "1.2.0",
            "_model_name": "LayoutModel",
            "_view_count": null,
            "_view_module": "@jupyter-widgets/base",
            "_view_module_version": "1.2.0",
            "_view_name": "LayoutView",
            "align_content": null,
            "align_items": null,
            "align_self": null,
            "border": null,
            "bottom": null,
            "display": null,
            "flex": null,
            "flex_flow": null,
            "grid_area": null,
            "grid_auto_columns": null,
            "grid_auto_flow": null,
            "grid_auto_rows": null,
            "grid_column": null,
            "grid_gap": null,
            "grid_row": null,
            "grid_template_areas": null,
            "grid_template_columns": null,
            "grid_template_rows": null,
            "height": null,
            "justify_content": null,
            "justify_items": null,
            "left": null,
            "margin": null,
            "max_height": null,
            "max_width": null,
            "min_height": null,
            "min_width": null,
            "object_fit": null,
            "object_position": null,
            "order": null,
            "overflow": null,
            "overflow_x": null,
            "overflow_y": null,
            "padding": null,
            "right": null,
            "top": null,
            "visibility": null,
            "width": null
          }
        },
        "4fc8ba3865814ae8a36d219ca6a6ba22": {
          "model_module": "@jupyter-widgets/controls",
          "model_name": "DescriptionStyleModel",
          "model_module_version": "1.5.0",
          "state": {
            "_model_module": "@jupyter-widgets/controls",
            "_model_module_version": "1.5.0",
            "_model_name": "DescriptionStyleModel",
            "_view_count": null,
            "_view_module": "@jupyter-widgets/base",
            "_view_module_version": "1.2.0",
            "_view_name": "StyleView",
            "description_width": ""
          }
        },
        "c3986ac898bd40419e93ca31fb3feea2": {
          "model_module": "@jupyter-widgets/base",
          "model_name": "LayoutModel",
          "model_module_version": "1.2.0",
          "state": {
            "_model_module": "@jupyter-widgets/base",
            "_model_module_version": "1.2.0",
            "_model_name": "LayoutModel",
            "_view_count": null,
            "_view_module": "@jupyter-widgets/base",
            "_view_module_version": "1.2.0",
            "_view_name": "LayoutView",
            "align_content": null,
            "align_items": null,
            "align_self": null,
            "border": null,
            "bottom": null,
            "display": null,
            "flex": null,
            "flex_flow": null,
            "grid_area": null,
            "grid_auto_columns": null,
            "grid_auto_flow": null,
            "grid_auto_rows": null,
            "grid_column": null,
            "grid_gap": null,
            "grid_row": null,
            "grid_template_areas": null,
            "grid_template_columns": null,
            "grid_template_rows": null,
            "height": null,
            "justify_content": null,
            "justify_items": null,
            "left": null,
            "margin": null,
            "max_height": null,
            "max_width": null,
            "min_height": null,
            "min_width": null,
            "object_fit": null,
            "object_position": null,
            "order": null,
            "overflow": null,
            "overflow_x": null,
            "overflow_y": null,
            "padding": null,
            "right": null,
            "top": null,
            "visibility": null,
            "width": null
          }
        },
        "2ef16516c3464603b99d3be6389a4af9": {
          "model_module": "@jupyter-widgets/controls",
          "model_name": "ProgressStyleModel",
          "model_module_version": "1.5.0",
          "state": {
            "_model_module": "@jupyter-widgets/controls",
            "_model_module_version": "1.5.0",
            "_model_name": "ProgressStyleModel",
            "_view_count": null,
            "_view_module": "@jupyter-widgets/base",
            "_view_module_version": "1.2.0",
            "_view_name": "StyleView",
            "bar_color": null,
            "description_width": ""
          }
        },
        "eb354585ba834c47970a7cfbfde13a88": {
          "model_module": "@jupyter-widgets/base",
          "model_name": "LayoutModel",
          "model_module_version": "1.2.0",
          "state": {
            "_model_module": "@jupyter-widgets/base",
            "_model_module_version": "1.2.0",
            "_model_name": "LayoutModel",
            "_view_count": null,
            "_view_module": "@jupyter-widgets/base",
            "_view_module_version": "1.2.0",
            "_view_name": "LayoutView",
            "align_content": null,
            "align_items": null,
            "align_self": null,
            "border": null,
            "bottom": null,
            "display": null,
            "flex": null,
            "flex_flow": null,
            "grid_area": null,
            "grid_auto_columns": null,
            "grid_auto_flow": null,
            "grid_auto_rows": null,
            "grid_column": null,
            "grid_gap": null,
            "grid_row": null,
            "grid_template_areas": null,
            "grid_template_columns": null,
            "grid_template_rows": null,
            "height": null,
            "justify_content": null,
            "justify_items": null,
            "left": null,
            "margin": null,
            "max_height": null,
            "max_width": null,
            "min_height": null,
            "min_width": null,
            "object_fit": null,
            "object_position": null,
            "order": null,
            "overflow": null,
            "overflow_x": null,
            "overflow_y": null,
            "padding": null,
            "right": null,
            "top": null,
            "visibility": null,
            "width": null
          }
        },
        "b78a50b37dba45e69cb1d26472dc1edc": {
          "model_module": "@jupyter-widgets/controls",
          "model_name": "DescriptionStyleModel",
          "model_module_version": "1.5.0",
          "state": {
            "_model_module": "@jupyter-widgets/controls",
            "_model_module_version": "1.5.0",
            "_model_name": "DescriptionStyleModel",
            "_view_count": null,
            "_view_module": "@jupyter-widgets/base",
            "_view_module_version": "1.2.0",
            "_view_name": "StyleView",
            "description_width": ""
          }
        }
      }
    }
  },
  "nbformat": 4,
  "nbformat_minor": 5
}